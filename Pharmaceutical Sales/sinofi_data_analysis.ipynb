{
 "cells": [
  {
   "cell_type": "markdown",
   "id": "b7aa666c",
   "metadata": {},
   "source": [
    "# Importing Necessary Libraries"
   ]
  },
  {
   "cell_type": "code",
   "execution_count": 1,
   "id": "526fb34a",
   "metadata": {},
   "outputs": [],
   "source": [
    "import warnings\n",
    "warnings.filterwarnings('ignore')"
   ]
  },
  {
   "cell_type": "code",
   "execution_count": 2,
   "id": "41af5acf",
   "metadata": {},
   "outputs": [],
   "source": [
    "import pandas as pd\n",
    "import numpy as np\n",
    "import plotly.express as px\n",
    "import matplotlib.pyplot as plt\n",
    "%matplotlib inline\n",
    "import seaborn as sns\n",
    "color = sns.color_palette()"
   ]
  },
  {
   "cell_type": "code",
   "execution_count": 3,
   "id": "acdf6a70",
   "metadata": {},
   "outputs": [],
   "source": [
    "raw = pd.read_csv('sinofi_raw.csv')"
   ]
  },
  {
   "cell_type": "code",
   "execution_count": 4,
   "id": "d4cea66b",
   "metadata": {},
   "outputs": [
    {
     "data": {
      "text/html": [
       "<div>\n",
       "<style scoped>\n",
       "    .dataframe tbody tr th:only-of-type {\n",
       "        vertical-align: middle;\n",
       "    }\n",
       "\n",
       "    .dataframe tbody tr th {\n",
       "        vertical-align: top;\n",
       "    }\n",
       "\n",
       "    .dataframe thead th {\n",
       "        text-align: right;\n",
       "    }\n",
       "</style>\n",
       "<table border=\"1\" class=\"dataframe\">\n",
       "  <thead>\n",
       "    <tr style=\"text-align: right;\">\n",
       "      <th></th>\n",
       "      <th>product_code</th>\n",
       "      <th>product_type</th>\n",
       "      <th>customer_code</th>\n",
       "      <th>market_code</th>\n",
       "      <th>market_name</th>\n",
       "      <th>order_date</th>\n",
       "      <th>sales_qty</th>\n",
       "      <th>upc</th>\n",
       "      <th>sales_amount</th>\n",
       "      <th>zone</th>\n",
       "    </tr>\n",
       "  </thead>\n",
       "  <tbody>\n",
       "    <tr>\n",
       "      <th>0</th>\n",
       "      <td>Prod001</td>\n",
       "      <td>Syrup</td>\n",
       "      <td>Cus001</td>\n",
       "      <td>Mark001</td>\n",
       "      <td>Darbhanga</td>\n",
       "      <td>10-10-2017</td>\n",
       "      <td>100</td>\n",
       "      <td>272.1840</td>\n",
       "      <td>41241</td>\n",
       "      <td>Bihar</td>\n",
       "    </tr>\n",
       "    <tr>\n",
       "      <th>1</th>\n",
       "      <td>Prod001</td>\n",
       "      <td>Syrup</td>\n",
       "      <td>Cus002</td>\n",
       "      <td>Mark002</td>\n",
       "      <td>Patna</td>\n",
       "      <td>08-05-2018</td>\n",
       "      <td>3</td>\n",
       "      <td>272.1840</td>\n",
       "      <td>-1</td>\n",
       "      <td>Bihar</td>\n",
       "    </tr>\n",
       "    <tr>\n",
       "      <th>2</th>\n",
       "      <td>Prod002</td>\n",
       "      <td>Ointment</td>\n",
       "      <td>Cus003</td>\n",
       "      <td>Mark003</td>\n",
       "      <td>Bhagalpur</td>\n",
       "      <td>06-04-2018</td>\n",
       "      <td>1</td>\n",
       "      <td>37.9896</td>\n",
       "      <td>875</td>\n",
       "      <td>Bihar</td>\n",
       "    </tr>\n",
       "    <tr>\n",
       "      <th>3</th>\n",
       "      <td>Prod002</td>\n",
       "      <td>Ointment</td>\n",
       "      <td>Cus003</td>\n",
       "      <td>Mark003</td>\n",
       "      <td>Bhagalpur</td>\n",
       "      <td>11-04-2018</td>\n",
       "      <td>1</td>\n",
       "      <td>37.9896</td>\n",
       "      <td>583</td>\n",
       "      <td>Bihar</td>\n",
       "    </tr>\n",
       "    <tr>\n",
       "      <th>4</th>\n",
       "      <td>Prod002</td>\n",
       "      <td>Ointment</td>\n",
       "      <td>Cus004</td>\n",
       "      <td>Mark003</td>\n",
       "      <td>Bhagalpur</td>\n",
       "      <td>18-06-2018</td>\n",
       "      <td>6</td>\n",
       "      <td>37.9896</td>\n",
       "      <td>7176</td>\n",
       "      <td>Bihar</td>\n",
       "    </tr>\n",
       "  </tbody>\n",
       "</table>\n",
       "</div>"
      ],
      "text/plain": [
       "  product_code product_type customer_code market_code market_name  order_date  \\\n",
       "0      Prod001        Syrup        Cus001     Mark001   Darbhanga  10-10-2017   \n",
       "1      Prod001        Syrup        Cus002     Mark002       Patna  08-05-2018   \n",
       "2      Prod002     Ointment        Cus003     Mark003   Bhagalpur  06-04-2018   \n",
       "3      Prod002     Ointment        Cus003     Mark003   Bhagalpur  11-04-2018   \n",
       "4      Prod002     Ointment        Cus004     Mark003   Bhagalpur  18-06-2018   \n",
       "\n",
       "   sales_qty       upc  sales_amount   zone  \n",
       "0        100  272.1840         41241  Bihar  \n",
       "1          3  272.1840            -1  Bihar  \n",
       "2          1   37.9896           875  Bihar  \n",
       "3          1   37.9896           583  Bihar  \n",
       "4          6   37.9896          7176  Bihar  "
      ]
     },
     "execution_count": 4,
     "metadata": {},
     "output_type": "execute_result"
    }
   ],
   "source": [
    "raw.head()"
   ]
  },
  {
   "cell_type": "markdown",
   "id": "162e009d",
   "metadata": {},
   "source": [
    "# Data Cleaning"
   ]
  },
  {
   "cell_type": "markdown",
   "id": "c1bd01ae",
   "metadata": {},
   "source": [
    "### Checking null values in the dataframe"
   ]
  },
  {
   "cell_type": "code",
   "execution_count": 5,
   "id": "30650b24",
   "metadata": {},
   "outputs": [
    {
     "name": "stdout",
     "output_type": "stream",
     "text": [
      "<class 'pandas.core.frame.DataFrame'>\n",
      "RangeIndex: 150283 entries, 0 to 150282\n",
      "Data columns (total 10 columns):\n",
      " #   Column         Non-Null Count   Dtype  \n",
      "---  ------         --------------   -----  \n",
      " 0   product_code   150283 non-null  object \n",
      " 1   product_type   150283 non-null  object \n",
      " 2   customer_code  150283 non-null  object \n",
      " 3   market_code    150283 non-null  object \n",
      " 4   market_name    150283 non-null  object \n",
      " 5   order_date     150283 non-null  object \n",
      " 6   sales_qty      150283 non-null  int64  \n",
      " 7   upc            150283 non-null  float64\n",
      " 8   sales_amount   150283 non-null  int64  \n",
      " 9   zone           150283 non-null  object \n",
      "dtypes: float64(1), int64(2), object(7)\n",
      "memory usage: 11.5+ MB\n"
     ]
    }
   ],
   "source": [
    "raw.info()"
   ]
  },
  {
   "cell_type": "code",
   "execution_count": 6,
   "id": "b2c7f81d",
   "metadata": {},
   "outputs": [
    {
     "data": {
      "text/plain": [
       "product_code     False\n",
       "product_type     False\n",
       "customer_code    False\n",
       "market_code      False\n",
       "market_name      False\n",
       "order_date       False\n",
       "sales_qty        False\n",
       "upc              False\n",
       "sales_amount     False\n",
       "zone             False\n",
       "dtype: bool"
      ]
     },
     "execution_count": 6,
     "metadata": {},
     "output_type": "execute_result"
    }
   ],
   "source": [
    "raw.count().isnull()"
   ]
  },
  {
   "cell_type": "markdown",
   "id": "fe8d312d",
   "metadata": {},
   "source": [
    "There is no null vales in any column"
   ]
  },
  {
   "cell_type": "markdown",
   "id": "556078df",
   "metadata": {},
   "source": [
    "### Checking duplicate entries"
   ]
  },
  {
   "cell_type": "code",
   "execution_count": 7,
   "id": "5d8bb1d5",
   "metadata": {},
   "outputs": [
    {
     "data": {
      "text/plain": [
       "150283"
      ]
     },
     "execution_count": 7,
     "metadata": {},
     "output_type": "execute_result"
    }
   ],
   "source": [
    "len(raw)"
   ]
  },
  {
   "cell_type": "code",
   "execution_count": 8,
   "id": "966549eb",
   "metadata": {},
   "outputs": [
    {
     "data": {
      "text/plain": [
       "False    150004\n",
       "True        279\n",
       "dtype: int64"
      ]
     },
     "execution_count": 8,
     "metadata": {},
     "output_type": "execute_result"
    }
   ],
   "source": [
    "# Number of duplicate rows\n",
    "\n",
    "raw.duplicated().value_counts()"
   ]
  },
  {
   "cell_type": "code",
   "execution_count": 9,
   "id": "b1632e0a",
   "metadata": {},
   "outputs": [
    {
     "data": {
      "text/plain": [
       "279"
      ]
     },
     "execution_count": 9,
     "metadata": {},
     "output_type": "execute_result"
    }
   ],
   "source": [
    "len(raw)-len(raw.drop_duplicates())"
   ]
  },
  {
   "cell_type": "markdown",
   "id": "ed91662f",
   "metadata": {},
   "source": [
    "There are 279 duplicate rows. We will remove it."
   ]
  },
  {
   "cell_type": "code",
   "execution_count": 10,
   "id": "3d46ffeb",
   "metadata": {},
   "outputs": [],
   "source": [
    "# Remove duplicate rows\n",
    "raw.drop_duplicates(inplace=True)"
   ]
  },
  {
   "cell_type": "code",
   "execution_count": 11,
   "id": "687a11b5",
   "metadata": {},
   "outputs": [
    {
     "data": {
      "text/plain": [
       "0"
      ]
     },
     "execution_count": 11,
     "metadata": {},
     "output_type": "execute_result"
    }
   ],
   "source": [
    "# Check if duplicates has been removed or not\n",
    "\n",
    "len(raw)-len(raw.drop_duplicates())"
   ]
  },
  {
   "cell_type": "code",
   "execution_count": 12,
   "id": "305c863d",
   "metadata": {},
   "outputs": [
    {
     "data": {
      "text/plain": [
       "False    150004\n",
       "dtype: int64"
      ]
     },
     "execution_count": 12,
     "metadata": {},
     "output_type": "execute_result"
    }
   ],
   "source": [
    "raw.duplicated().value_counts()"
   ]
  },
  {
   "cell_type": "markdown",
   "id": "4a3a1510",
   "metadata": {},
   "source": [
    "### Treating zero and negative sales_amount"
   ]
  },
  {
   "cell_type": "code",
   "execution_count": 13,
   "id": "1acba39c",
   "metadata": {},
   "outputs": [
    {
     "data": {
      "text/html": [
       "<div>\n",
       "<style scoped>\n",
       "    .dataframe tbody tr th:only-of-type {\n",
       "        vertical-align: middle;\n",
       "    }\n",
       "\n",
       "    .dataframe tbody tr th {\n",
       "        vertical-align: top;\n",
       "    }\n",
       "\n",
       "    .dataframe thead th {\n",
       "        text-align: right;\n",
       "    }\n",
       "</style>\n",
       "<table border=\"1\" class=\"dataframe\">\n",
       "  <thead>\n",
       "    <tr style=\"text-align: right;\">\n",
       "      <th></th>\n",
       "      <th>sales_qty</th>\n",
       "      <th>upc</th>\n",
       "      <th>sales_amount</th>\n",
       "    </tr>\n",
       "  </thead>\n",
       "  <tbody>\n",
       "    <tr>\n",
       "      <th>count</th>\n",
       "      <td>150004.000000</td>\n",
       "      <td>150004.000000</td>\n",
       "      <td>1.500040e+05</td>\n",
       "    </tr>\n",
       "    <tr>\n",
       "      <th>mean</th>\n",
       "      <td>16.280579</td>\n",
       "      <td>86.674874</td>\n",
       "      <td>6.565648e+03</td>\n",
       "    </tr>\n",
       "    <tr>\n",
       "      <th>std</th>\n",
       "      <td>114.859234</td>\n",
       "      <td>186.126662</td>\n",
       "      <td>2.993264e+04</td>\n",
       "    </tr>\n",
       "    <tr>\n",
       "      <th>min</th>\n",
       "      <td>1.000000</td>\n",
       "      <td>0.000000</td>\n",
       "      <td>-1.000000e+00</td>\n",
       "    </tr>\n",
       "    <tr>\n",
       "      <th>25%</th>\n",
       "      <td>1.000000</td>\n",
       "      <td>11.187116</td>\n",
       "      <td>1.670000e+02</td>\n",
       "    </tr>\n",
       "    <tr>\n",
       "      <th>50%</th>\n",
       "      <td>1.000000</td>\n",
       "      <td>37.911939</td>\n",
       "      <td>5.050000e+02</td>\n",
       "    </tr>\n",
       "    <tr>\n",
       "      <th>75%</th>\n",
       "      <td>7.000000</td>\n",
       "      <td>98.284074</td>\n",
       "      <td>3.000000e+03</td>\n",
       "    </tr>\n",
       "    <tr>\n",
       "      <th>max</th>\n",
       "      <td>14049.000000</td>\n",
       "      <td>19501.600800</td>\n",
       "      <td>1.510944e+06</td>\n",
       "    </tr>\n",
       "  </tbody>\n",
       "</table>\n",
       "</div>"
      ],
      "text/plain": [
       "           sales_qty            upc  sales_amount\n",
       "count  150004.000000  150004.000000  1.500040e+05\n",
       "mean       16.280579      86.674874  6.565648e+03\n",
       "std       114.859234     186.126662  2.993264e+04\n",
       "min         1.000000       0.000000 -1.000000e+00\n",
       "25%         1.000000      11.187116  1.670000e+02\n",
       "50%         1.000000      37.911939  5.050000e+02\n",
       "75%         7.000000      98.284074  3.000000e+03\n",
       "max     14049.000000   19501.600800  1.510944e+06"
      ]
     },
     "execution_count": 13,
     "metadata": {},
     "output_type": "execute_result"
    }
   ],
   "source": [
    "raw.describe()"
   ]
  },
  {
   "cell_type": "markdown",
   "id": "3ee0a67a",
   "metadata": {},
   "source": [
    "The minimum sales_amount has a negative value which is practically not possible, even a zero is not possible. This error might have happened due to human error while filling in the data. The negative values needs to be treated but, before that lets see which columns have zero values in them."
   ]
  },
  {
   "cell_type": "code",
   "execution_count": 14,
   "id": "f8e07774",
   "metadata": {},
   "outputs": [
    {
     "data": {
      "text/plain": [
       "product_code        0\n",
       "product_type        0\n",
       "customer_code       0\n",
       "market_code         0\n",
       "market_name         0\n",
       "order_date          0\n",
       "sales_qty           0\n",
       "upc                 1\n",
       "sales_amount     1606\n",
       "zone                0\n",
       "dtype: int64"
      ]
     },
     "execution_count": 14,
     "metadata": {},
     "output_type": "execute_result"
    }
   ],
   "source": [
    "# Checking columns with zero values.\n",
    "\n",
    "(raw.iloc[:,0:raw.shape[1]]==0).sum()"
   ]
  },
  {
   "cell_type": "markdown",
   "id": "00b16c15",
   "metadata": {},
   "source": [
    "The column upc has 1 and sales amount has 1606 zero values. First we will treat sales_amount. "
   ]
  },
  {
   "cell_type": "markdown",
   "id": "f1ed130f",
   "metadata": {},
   "source": [
    "There are 1606 rows where sales_amount is zero. It con not be treated statistically as it depends on many features. It will be removed instead."
   ]
  },
  {
   "cell_type": "code",
   "execution_count": 15,
   "id": "e8daf99a",
   "metadata": {},
   "outputs": [],
   "source": [
    "raw.drop(raw[raw.sales_amount ==0].index,inplace=True)"
   ]
  },
  {
   "cell_type": "code",
   "execution_count": 16,
   "id": "93e6e649",
   "metadata": {},
   "outputs": [
    {
     "data": {
      "text/plain": [
       "0"
      ]
     },
     "execution_count": 16,
     "metadata": {},
     "output_type": "execute_result"
    }
   ],
   "source": [
    "# Checking check if zero sales_amount rows are remover or not. \n",
    "\n",
    "len(raw[raw.sales_amount==0])"
   ]
  },
  {
   "cell_type": "markdown",
   "id": "74f45074",
   "metadata": {},
   "source": [
    "The sales_amount column has now no zero values. Now let's inspect upc column with zero value."
   ]
  },
  {
   "cell_type": "code",
   "execution_count": 17,
   "id": "a3d26086",
   "metadata": {},
   "outputs": [
    {
     "data": {
      "text/plain": [
       "product_code     0\n",
       "product_type     0\n",
       "customer_code    0\n",
       "market_code      0\n",
       "market_name      0\n",
       "order_date       0\n",
       "sales_qty        0\n",
       "upc              0\n",
       "sales_amount     0\n",
       "zone             0\n",
       "dtype: int64"
      ]
     },
     "execution_count": 17,
     "metadata": {},
     "output_type": "execute_result"
    }
   ],
   "source": [
    "raw[raw.upc==0].count()"
   ]
  },
  {
   "cell_type": "markdown",
   "id": "f4c6bd19",
   "metadata": {},
   "source": [
    "It seems that the row which has zero upc value was removed while removing rows with zero sales_amount."
   ]
  },
  {
   "cell_type": "markdown",
   "id": "621c9db4",
   "metadata": {},
   "source": [
    "### Treating negative values"
   ]
  },
  {
   "cell_type": "code",
   "execution_count": 18,
   "id": "54d52cec",
   "metadata": {},
   "outputs": [
    {
     "data": {
      "text/html": [
       "<div>\n",
       "<style scoped>\n",
       "    .dataframe tbody tr th:only-of-type {\n",
       "        vertical-align: middle;\n",
       "    }\n",
       "\n",
       "    .dataframe tbody tr th {\n",
       "        vertical-align: top;\n",
       "    }\n",
       "\n",
       "    .dataframe thead th {\n",
       "        text-align: right;\n",
       "    }\n",
       "</style>\n",
       "<table border=\"1\" class=\"dataframe\">\n",
       "  <thead>\n",
       "    <tr style=\"text-align: right;\">\n",
       "      <th></th>\n",
       "      <th>sales_qty</th>\n",
       "      <th>upc</th>\n",
       "      <th>sales_amount</th>\n",
       "    </tr>\n",
       "  </thead>\n",
       "  <tbody>\n",
       "    <tr>\n",
       "      <th>count</th>\n",
       "      <td>148398.000000</td>\n",
       "      <td>148398.000000</td>\n",
       "      <td>1.483980e+05</td>\n",
       "    </tr>\n",
       "    <tr>\n",
       "      <th>mean</th>\n",
       "      <td>16.370706</td>\n",
       "      <td>86.311603</td>\n",
       "      <td>6.636703e+03</td>\n",
       "    </tr>\n",
       "    <tr>\n",
       "      <th>std</th>\n",
       "      <td>115.393172</td>\n",
       "      <td>186.204156</td>\n",
       "      <td>3.008634e+04</td>\n",
       "    </tr>\n",
       "    <tr>\n",
       "      <th>min</th>\n",
       "      <td>1.000000</td>\n",
       "      <td>0.858000</td>\n",
       "      <td>-1.000000e+00</td>\n",
       "    </tr>\n",
       "    <tr>\n",
       "      <th>25%</th>\n",
       "      <td>1.000000</td>\n",
       "      <td>10.549199</td>\n",
       "      <td>1.760000e+02</td>\n",
       "    </tr>\n",
       "    <tr>\n",
       "      <th>50%</th>\n",
       "      <td>1.000000</td>\n",
       "      <td>37.911939</td>\n",
       "      <td>5.190000e+02</td>\n",
       "    </tr>\n",
       "    <tr>\n",
       "      <th>75%</th>\n",
       "      <td>7.000000</td>\n",
       "      <td>98.223714</td>\n",
       "      <td>3.065000e+03</td>\n",
       "    </tr>\n",
       "    <tr>\n",
       "      <th>max</th>\n",
       "      <td>14049.000000</td>\n",
       "      <td>19501.600800</td>\n",
       "      <td>1.510944e+06</td>\n",
       "    </tr>\n",
       "  </tbody>\n",
       "</table>\n",
       "</div>"
      ],
      "text/plain": [
       "           sales_qty            upc  sales_amount\n",
       "count  148398.000000  148398.000000  1.483980e+05\n",
       "mean       16.370706      86.311603  6.636703e+03\n",
       "std       115.393172     186.204156  3.008634e+04\n",
       "min         1.000000       0.858000 -1.000000e+00\n",
       "25%         1.000000      10.549199  1.760000e+02\n",
       "50%         1.000000      37.911939  5.190000e+02\n",
       "75%         7.000000      98.223714  3.065000e+03\n",
       "max     14049.000000   19501.600800  1.510944e+06"
      ]
     },
     "execution_count": 18,
     "metadata": {},
     "output_type": "execute_result"
    }
   ],
   "source": [
    "raw.describe()"
   ]
  },
  {
   "cell_type": "markdown",
   "id": "2cb0de05",
   "metadata": {},
   "source": [
    "1. The sales_amount is the only column which has a negative minimum value, it means that no other numerical columns have a negative value.\n",
    "2. The minimum sales amount is negative which is practically not possible. This error might have happened due to human error."
   ]
  },
  {
   "cell_type": "code",
   "execution_count": 19,
   "id": "7544e040",
   "metadata": {},
   "outputs": [
    {
     "data": {
      "text/html": [
       "<div>\n",
       "<style scoped>\n",
       "    .dataframe tbody tr th:only-of-type {\n",
       "        vertical-align: middle;\n",
       "    }\n",
       "\n",
       "    .dataframe tbody tr th {\n",
       "        vertical-align: top;\n",
       "    }\n",
       "\n",
       "    .dataframe thead th {\n",
       "        text-align: right;\n",
       "    }\n",
       "</style>\n",
       "<table border=\"1\" class=\"dataframe\">\n",
       "  <thead>\n",
       "    <tr style=\"text-align: right;\">\n",
       "      <th></th>\n",
       "      <th>product_code</th>\n",
       "      <th>product_type</th>\n",
       "      <th>customer_code</th>\n",
       "      <th>market_code</th>\n",
       "      <th>market_name</th>\n",
       "      <th>order_date</th>\n",
       "      <th>sales_qty</th>\n",
       "      <th>upc</th>\n",
       "      <th>sales_amount</th>\n",
       "      <th>zone</th>\n",
       "    </tr>\n",
       "  </thead>\n",
       "  <tbody>\n",
       "    <tr>\n",
       "      <th>1</th>\n",
       "      <td>Prod001</td>\n",
       "      <td>Syrup</td>\n",
       "      <td>Cus002</td>\n",
       "      <td>Mark002</td>\n",
       "      <td>Patna</td>\n",
       "      <td>08-05-2018</td>\n",
       "      <td>3</td>\n",
       "      <td>272.184</td>\n",
       "      <td>-1</td>\n",
       "      <td>Bihar</td>\n",
       "    </tr>\n",
       "  </tbody>\n",
       "</table>\n",
       "</div>"
      ],
      "text/plain": [
       "  product_code product_type customer_code market_code market_name  order_date  \\\n",
       "1      Prod001        Syrup        Cus002     Mark002       Patna  08-05-2018   \n",
       "\n",
       "   sales_qty      upc  sales_amount   zone  \n",
       "1          3  272.184            -1  Bihar  "
      ]
     },
     "execution_count": 19,
     "metadata": {},
     "output_type": "execute_result"
    }
   ],
   "source": [
    "# sales amount rows with negative values\n",
    "\n",
    "raw[raw.sales_amount<0]"
   ]
  },
  {
   "cell_type": "markdown",
   "id": "6812bbd5",
   "metadata": {},
   "source": [
    "There is one row with negative sales_amount."
   ]
  },
  {
   "cell_type": "markdown",
   "id": "a9716419",
   "metadata": {},
   "source": [
    "If there would have been many rows with negative sales_amount then we woud have treated them statistically but here we will simply remove that row."
   ]
  },
  {
   "cell_type": "code",
   "execution_count": 20,
   "id": "ba1304b6",
   "metadata": {},
   "outputs": [],
   "source": [
    "# Drop Row with negative sales_amount\n",
    "\n",
    "raw.drop(raw[raw.sales_amount < 0].index, inplace=True)"
   ]
  },
  {
   "cell_type": "code",
   "execution_count": 21,
   "id": "9ef0447a",
   "metadata": {},
   "outputs": [
    {
     "data": {
      "text/html": [
       "<div>\n",
       "<style scoped>\n",
       "    .dataframe tbody tr th:only-of-type {\n",
       "        vertical-align: middle;\n",
       "    }\n",
       "\n",
       "    .dataframe tbody tr th {\n",
       "        vertical-align: top;\n",
       "    }\n",
       "\n",
       "    .dataframe thead th {\n",
       "        text-align: right;\n",
       "    }\n",
       "</style>\n",
       "<table border=\"1\" class=\"dataframe\">\n",
       "  <thead>\n",
       "    <tr style=\"text-align: right;\">\n",
       "      <th></th>\n",
       "      <th>product_code</th>\n",
       "      <th>product_type</th>\n",
       "      <th>customer_code</th>\n",
       "      <th>market_code</th>\n",
       "      <th>market_name</th>\n",
       "      <th>order_date</th>\n",
       "      <th>sales_qty</th>\n",
       "      <th>upc</th>\n",
       "      <th>sales_amount</th>\n",
       "      <th>zone</th>\n",
       "    </tr>\n",
       "  </thead>\n",
       "  <tbody>\n",
       "  </tbody>\n",
       "</table>\n",
       "</div>"
      ],
      "text/plain": [
       "Empty DataFrame\n",
       "Columns: [product_code, product_type, customer_code, market_code, market_name, order_date, sales_qty, upc, sales_amount, zone]\n",
       "Index: []"
      ]
     },
     "execution_count": 21,
     "metadata": {},
     "output_type": "execute_result"
    }
   ],
   "source": [
    "# Check if row with negative sales_amount has been removed or not\n",
    "# Method 1\n",
    "\n",
    "raw[raw.sales_amount<0]"
   ]
  },
  {
   "cell_type": "code",
   "execution_count": 22,
   "id": "4555ab7f",
   "metadata": {},
   "outputs": [
    {
     "data": {
      "text/plain": [
       "product_code     0\n",
       "product_type     0\n",
       "customer_code    0\n",
       "market_code      0\n",
       "market_name      0\n",
       "order_date       0\n",
       "sales_qty        0\n",
       "upc              0\n",
       "sales_amount     0\n",
       "zone             0\n",
       "dtype: int64"
      ]
     },
     "execution_count": 22,
     "metadata": {},
     "output_type": "execute_result"
    }
   ],
   "source": [
    "# Check if row with negative sales_amount has been removed or not\n",
    "# Method 2\n",
    "\n",
    "raw[raw.sales_amount<0].count()"
   ]
  },
  {
   "cell_type": "markdown",
   "id": "7fd7b8a7",
   "metadata": {},
   "source": [
    "Row with negative sales_amount has been removed "
   ]
  },
  {
   "cell_type": "code",
   "execution_count": 23,
   "id": "653cff7a",
   "metadata": {},
   "outputs": [
    {
     "data": {
      "text/plain": [
       "148397"
      ]
     },
     "execution_count": 23,
     "metadata": {},
     "output_type": "execute_result"
    }
   ],
   "source": [
    "len(raw)"
   ]
  },
  {
   "cell_type": "markdown",
   "id": "97c7953f",
   "metadata": {},
   "source": [
    "After all the necessary data processing 148397 rows are left."
   ]
  },
  {
   "cell_type": "code",
   "execution_count": 24,
   "id": "504dca92",
   "metadata": {},
   "outputs": [
    {
     "data": {
      "text/html": [
       "<div>\n",
       "<style scoped>\n",
       "    .dataframe tbody tr th:only-of-type {\n",
       "        vertical-align: middle;\n",
       "    }\n",
       "\n",
       "    .dataframe tbody tr th {\n",
       "        vertical-align: top;\n",
       "    }\n",
       "\n",
       "    .dataframe thead th {\n",
       "        text-align: right;\n",
       "    }\n",
       "</style>\n",
       "<table border=\"1\" class=\"dataframe\">\n",
       "  <thead>\n",
       "    <tr style=\"text-align: right;\">\n",
       "      <th></th>\n",
       "      <th>sales_qty</th>\n",
       "      <th>upc</th>\n",
       "      <th>sales_amount</th>\n",
       "    </tr>\n",
       "  </thead>\n",
       "  <tbody>\n",
       "    <tr>\n",
       "      <th>count</th>\n",
       "      <td>148397.000000</td>\n",
       "      <td>148397.000000</td>\n",
       "      <td>1.483970e+05</td>\n",
       "    </tr>\n",
       "    <tr>\n",
       "      <th>mean</th>\n",
       "      <td>16.370796</td>\n",
       "      <td>86.310351</td>\n",
       "      <td>6.636748e+03</td>\n",
       "    </tr>\n",
       "    <tr>\n",
       "      <th>std</th>\n",
       "      <td>115.393556</td>\n",
       "      <td>186.204158</td>\n",
       "      <td>3.008643e+04</td>\n",
       "    </tr>\n",
       "    <tr>\n",
       "      <th>min</th>\n",
       "      <td>1.000000</td>\n",
       "      <td>0.858000</td>\n",
       "      <td>5.000000e+00</td>\n",
       "    </tr>\n",
       "    <tr>\n",
       "      <th>25%</th>\n",
       "      <td>1.000000</td>\n",
       "      <td>10.549199</td>\n",
       "      <td>1.760000e+02</td>\n",
       "    </tr>\n",
       "    <tr>\n",
       "      <th>50%</th>\n",
       "      <td>1.000000</td>\n",
       "      <td>37.911939</td>\n",
       "      <td>5.190000e+02</td>\n",
       "    </tr>\n",
       "    <tr>\n",
       "      <th>75%</th>\n",
       "      <td>7.000000</td>\n",
       "      <td>98.223714</td>\n",
       "      <td>3.065000e+03</td>\n",
       "    </tr>\n",
       "    <tr>\n",
       "      <th>max</th>\n",
       "      <td>14049.000000</td>\n",
       "      <td>19501.600800</td>\n",
       "      <td>1.510944e+06</td>\n",
       "    </tr>\n",
       "  </tbody>\n",
       "</table>\n",
       "</div>"
      ],
      "text/plain": [
       "           sales_qty            upc  sales_amount\n",
       "count  148397.000000  148397.000000  1.483970e+05\n",
       "mean       16.370796      86.310351  6.636748e+03\n",
       "std       115.393556     186.204158  3.008643e+04\n",
       "min         1.000000       0.858000  5.000000e+00\n",
       "25%         1.000000      10.549199  1.760000e+02\n",
       "50%         1.000000      37.911939  5.190000e+02\n",
       "75%         7.000000      98.223714  3.065000e+03\n",
       "max     14049.000000   19501.600800  1.510944e+06"
      ]
     },
     "execution_count": 24,
     "metadata": {},
     "output_type": "execute_result"
    }
   ],
   "source": [
    "raw.describe()"
   ]
  },
  {
   "cell_type": "markdown",
   "id": "4e4996c3",
   "metadata": {},
   "source": [
    "### Feature Engineering"
   ]
  },
  {
   "cell_type": "markdown",
   "id": "64d52759",
   "metadata": {},
   "source": [
    "1. Add net profit column.\n",
    "2. Net profit = sales_amount - (sales_qty * UPC)"
   ]
  },
  {
   "cell_type": "code",
   "execution_count": 25,
   "id": "ab8e09e2",
   "metadata": {},
   "outputs": [
    {
     "data": {
      "text/html": [
       "<div>\n",
       "<style scoped>\n",
       "    .dataframe tbody tr th:only-of-type {\n",
       "        vertical-align: middle;\n",
       "    }\n",
       "\n",
       "    .dataframe tbody tr th {\n",
       "        vertical-align: top;\n",
       "    }\n",
       "\n",
       "    .dataframe thead th {\n",
       "        text-align: right;\n",
       "    }\n",
       "</style>\n",
       "<table border=\"1\" class=\"dataframe\">\n",
       "  <thead>\n",
       "    <tr style=\"text-align: right;\">\n",
       "      <th></th>\n",
       "      <th>product_code</th>\n",
       "      <th>product_type</th>\n",
       "      <th>customer_code</th>\n",
       "      <th>market_code</th>\n",
       "      <th>market_name</th>\n",
       "      <th>order_date</th>\n",
       "      <th>sales_qty</th>\n",
       "      <th>upc</th>\n",
       "      <th>sales_amount</th>\n",
       "      <th>zone</th>\n",
       "      <th>net_profit</th>\n",
       "    </tr>\n",
       "  </thead>\n",
       "  <tbody>\n",
       "    <tr>\n",
       "      <th>0</th>\n",
       "      <td>Prod001</td>\n",
       "      <td>Syrup</td>\n",
       "      <td>Cus001</td>\n",
       "      <td>Mark001</td>\n",
       "      <td>Darbhanga</td>\n",
       "      <td>10-10-2017</td>\n",
       "      <td>100</td>\n",
       "      <td>272.1840</td>\n",
       "      <td>41241</td>\n",
       "      <td>Bihar</td>\n",
       "      <td>14022.6000</td>\n",
       "    </tr>\n",
       "    <tr>\n",
       "      <th>2</th>\n",
       "      <td>Prod002</td>\n",
       "      <td>Ointment</td>\n",
       "      <td>Cus003</td>\n",
       "      <td>Mark003</td>\n",
       "      <td>Bhagalpur</td>\n",
       "      <td>06-04-2018</td>\n",
       "      <td>1</td>\n",
       "      <td>37.9896</td>\n",
       "      <td>875</td>\n",
       "      <td>Bihar</td>\n",
       "      <td>837.0104</td>\n",
       "    </tr>\n",
       "    <tr>\n",
       "      <th>3</th>\n",
       "      <td>Prod002</td>\n",
       "      <td>Ointment</td>\n",
       "      <td>Cus003</td>\n",
       "      <td>Mark003</td>\n",
       "      <td>Bhagalpur</td>\n",
       "      <td>11-04-2018</td>\n",
       "      <td>1</td>\n",
       "      <td>37.9896</td>\n",
       "      <td>583</td>\n",
       "      <td>Bihar</td>\n",
       "      <td>545.0104</td>\n",
       "    </tr>\n",
       "    <tr>\n",
       "      <th>4</th>\n",
       "      <td>Prod002</td>\n",
       "      <td>Ointment</td>\n",
       "      <td>Cus004</td>\n",
       "      <td>Mark003</td>\n",
       "      <td>Bhagalpur</td>\n",
       "      <td>18-06-2018</td>\n",
       "      <td>6</td>\n",
       "      <td>37.9896</td>\n",
       "      <td>7176</td>\n",
       "      <td>Bihar</td>\n",
       "      <td>6948.0624</td>\n",
       "    </tr>\n",
       "    <tr>\n",
       "      <th>5</th>\n",
       "      <td>Prod003</td>\n",
       "      <td>Tablet</td>\n",
       "      <td>Cus005</td>\n",
       "      <td>Mark004</td>\n",
       "      <td>Muzaffarpur</td>\n",
       "      <td>20-11-2017</td>\n",
       "      <td>59</td>\n",
       "      <td>646.6317</td>\n",
       "      <td>40000</td>\n",
       "      <td>Bihar</td>\n",
       "      <td>1848.7297</td>\n",
       "    </tr>\n",
       "  </tbody>\n",
       "</table>\n",
       "</div>"
      ],
      "text/plain": [
       "  product_code product_type customer_code market_code  market_name  \\\n",
       "0      Prod001        Syrup        Cus001     Mark001    Darbhanga   \n",
       "2      Prod002     Ointment        Cus003     Mark003    Bhagalpur   \n",
       "3      Prod002     Ointment        Cus003     Mark003    Bhagalpur   \n",
       "4      Prod002     Ointment        Cus004     Mark003    Bhagalpur   \n",
       "5      Prod003       Tablet        Cus005     Mark004  Muzaffarpur   \n",
       "\n",
       "   order_date  sales_qty       upc  sales_amount   zone  net_profit  \n",
       "0  10-10-2017        100  272.1840         41241  Bihar  14022.6000  \n",
       "2  06-04-2018          1   37.9896           875  Bihar    837.0104  \n",
       "3  11-04-2018          1   37.9896           583  Bihar    545.0104  \n",
       "4  18-06-2018          6   37.9896          7176  Bihar   6948.0624  \n",
       "5  20-11-2017         59  646.6317         40000  Bihar   1848.7297  "
      ]
     },
     "execution_count": 25,
     "metadata": {},
     "output_type": "execute_result"
    }
   ],
   "source": [
    "raw['net_profit'] = raw.sales_amount - (raw.upc*raw.sales_qty)\n",
    "raw.head()"
   ]
  },
  {
   "cell_type": "code",
   "execution_count": 26,
   "id": "36f01f5f",
   "metadata": {},
   "outputs": [],
   "source": [
    "# Export the current table 'raw'\n",
    "\n",
    "raw.to_csv (r'C:\\Users\\atifn\\Downloads\\sinofi_raw.csv', index = False, header=True)"
   ]
  },
  {
   "cell_type": "markdown",
   "id": "2cf3585a",
   "metadata": {},
   "source": [
    "### Data Fragmentation"
   ]
  },
  {
   "cell_type": "markdown",
   "id": "70aaaede",
   "metadata": {},
   "source": [
    "#### 1. Making customer table "
   ]
  },
  {
   "cell_type": "code",
   "execution_count": 27,
   "id": "eca10f37",
   "metadata": {},
   "outputs": [
    {
     "data": {
      "text/html": [
       "<div>\n",
       "<style scoped>\n",
       "    .dataframe tbody tr th:only-of-type {\n",
       "        vertical-align: middle;\n",
       "    }\n",
       "\n",
       "    .dataframe tbody tr th {\n",
       "        vertical-align: top;\n",
       "    }\n",
       "\n",
       "    .dataframe thead th {\n",
       "        text-align: right;\n",
       "    }\n",
       "</style>\n",
       "<table border=\"1\" class=\"dataframe\">\n",
       "  <thead>\n",
       "    <tr style=\"text-align: right;\">\n",
       "      <th></th>\n",
       "      <th>customer_code</th>\n",
       "      <th>market_code</th>\n",
       "      <th>market_name</th>\n",
       "      <th>zone</th>\n",
       "    </tr>\n",
       "  </thead>\n",
       "  <tbody>\n",
       "    <tr>\n",
       "      <th>0</th>\n",
       "      <td>Cus001</td>\n",
       "      <td>Mark001</td>\n",
       "      <td>Darbhanga</td>\n",
       "      <td>Bihar</td>\n",
       "    </tr>\n",
       "    <tr>\n",
       "      <th>573</th>\n",
       "      <td>Cus002</td>\n",
       "      <td>Mark002</td>\n",
       "      <td>Patna</td>\n",
       "      <td>Bihar</td>\n",
       "    </tr>\n",
       "    <tr>\n",
       "      <th>2</th>\n",
       "      <td>Cus003</td>\n",
       "      <td>Mark003</td>\n",
       "      <td>Bhagalpur</td>\n",
       "      <td>Bihar</td>\n",
       "    </tr>\n",
       "    <tr>\n",
       "      <th>4</th>\n",
       "      <td>Cus004</td>\n",
       "      <td>Mark003</td>\n",
       "      <td>Bhagalpur</td>\n",
       "      <td>Bihar</td>\n",
       "    </tr>\n",
       "    <tr>\n",
       "      <th>5</th>\n",
       "      <td>Cus005</td>\n",
       "      <td>Mark004</td>\n",
       "      <td>Muzaffarpur</td>\n",
       "      <td>Bihar</td>\n",
       "    </tr>\n",
       "  </tbody>\n",
       "</table>\n",
       "</div>"
      ],
      "text/plain": [
       "    customer_code market_code  market_name   zone\n",
       "0          Cus001     Mark001    Darbhanga  Bihar\n",
       "573        Cus002     Mark002        Patna  Bihar\n",
       "2          Cus003     Mark003    Bhagalpur  Bihar\n",
       "4          Cus004     Mark003    Bhagalpur  Bihar\n",
       "5          Cus005     Mark004  Muzaffarpur  Bihar"
      ]
     },
     "execution_count": 27,
     "metadata": {},
     "output_type": "execute_result"
    }
   ],
   "source": [
    "# Making customers dataframe\n",
    "customers = raw[['customer_code','market_code','market_name','zone']].drop_duplicates('customer_code')\n",
    "\n",
    "# sort in ascending customer_code \n",
    "customers.sort_values(by='customer_code',ascending=True).head()"
   ]
  },
  {
   "cell_type": "code",
   "execution_count": 28,
   "id": "fd8c4a5d",
   "metadata": {},
   "outputs": [],
   "source": [
    "# Download customer table on desired location.\n",
    "\n",
    "customers.sort_values(by='customer_code',ascending=True).to_csv (r'C:\\Users\\atifn\\Downloads\\customers.csv', index = False, header=True)"
   ]
  },
  {
   "cell_type": "markdown",
   "id": "2d6918fd",
   "metadata": {},
   "source": [
    "#### 2. Making markets table"
   ]
  },
  {
   "cell_type": "code",
   "execution_count": 29,
   "id": "8cee94d1",
   "metadata": {},
   "outputs": [
    {
     "data": {
      "text/html": [
       "<div>\n",
       "<style scoped>\n",
       "    .dataframe tbody tr th:only-of-type {\n",
       "        vertical-align: middle;\n",
       "    }\n",
       "\n",
       "    .dataframe tbody tr th {\n",
       "        vertical-align: top;\n",
       "    }\n",
       "\n",
       "    .dataframe thead th {\n",
       "        text-align: right;\n",
       "    }\n",
       "</style>\n",
       "<table border=\"1\" class=\"dataframe\">\n",
       "  <thead>\n",
       "    <tr style=\"text-align: right;\">\n",
       "      <th></th>\n",
       "      <th>market_code</th>\n",
       "      <th>market_name</th>\n",
       "      <th>zone</th>\n",
       "    </tr>\n",
       "  </thead>\n",
       "  <tbody>\n",
       "    <tr>\n",
       "      <th>0</th>\n",
       "      <td>Mark001</td>\n",
       "      <td>Darbhanga</td>\n",
       "      <td>Bihar</td>\n",
       "    </tr>\n",
       "    <tr>\n",
       "      <th>123</th>\n",
       "      <td>Mark002</td>\n",
       "      <td>Patna</td>\n",
       "      <td>Bihar</td>\n",
       "    </tr>\n",
       "    <tr>\n",
       "      <th>2</th>\n",
       "      <td>Mark003</td>\n",
       "      <td>Bhagalpur</td>\n",
       "      <td>Bihar</td>\n",
       "    </tr>\n",
       "    <tr>\n",
       "      <th>5</th>\n",
       "      <td>Mark004</td>\n",
       "      <td>Muzaffarpur</td>\n",
       "      <td>Bihar</td>\n",
       "    </tr>\n",
       "    <tr>\n",
       "      <th>116</th>\n",
       "      <td>Mark005</td>\n",
       "      <td>Siliguri</td>\n",
       "      <td>West_Bengal</td>\n",
       "    </tr>\n",
       "  </tbody>\n",
       "</table>\n",
       "</div>"
      ],
      "text/plain": [
       "    market_code  market_name         zone\n",
       "0       Mark001    Darbhanga        Bihar\n",
       "123     Mark002        Patna        Bihar\n",
       "2       Mark003    Bhagalpur        Bihar\n",
       "5       Mark004  Muzaffarpur        Bihar\n",
       "116     Mark005     Siliguri  West_Bengal"
      ]
     },
     "execution_count": 29,
     "metadata": {},
     "output_type": "execute_result"
    }
   ],
   "source": [
    "# Making markets dataframe\n",
    "markets = raw[['market_code','market_name','zone']].drop_duplicates('market_code')\n",
    "\n",
    "# Sort in ascending market_code \n",
    "markets.sort_values(by='market_code', ascending=True).head()"
   ]
  },
  {
   "cell_type": "code",
   "execution_count": 30,
   "id": "43043fb3",
   "metadata": {},
   "outputs": [],
   "source": [
    "# Download markets table on desired location.\n",
    "\n",
    "markets.sort_values(by='market_code',ascending=True).to_csv (r'C:\\Users\\atifn\\Downloads\\markets.csv', index = False, header=True)"
   ]
  },
  {
   "cell_type": "markdown",
   "id": "1d8522a8",
   "metadata": {},
   "source": [
    "#### 3. Making products table"
   ]
  },
  {
   "cell_type": "code",
   "execution_count": 31,
   "id": "534bf556",
   "metadata": {},
   "outputs": [
    {
     "data": {
      "text/html": [
       "<div>\n",
       "<style scoped>\n",
       "    .dataframe tbody tr th:only-of-type {\n",
       "        vertical-align: middle;\n",
       "    }\n",
       "\n",
       "    .dataframe tbody tr th {\n",
       "        vertical-align: top;\n",
       "    }\n",
       "\n",
       "    .dataframe thead th {\n",
       "        text-align: right;\n",
       "    }\n",
       "</style>\n",
       "<table border=\"1\" class=\"dataframe\">\n",
       "  <thead>\n",
       "    <tr style=\"text-align: right;\">\n",
       "      <th></th>\n",
       "      <th>product_code</th>\n",
       "      <th>product_type</th>\n",
       "    </tr>\n",
       "  </thead>\n",
       "  <tbody>\n",
       "    <tr>\n",
       "      <th>0</th>\n",
       "      <td>Prod001</td>\n",
       "      <td>Syrup</td>\n",
       "    </tr>\n",
       "    <tr>\n",
       "      <th>2</th>\n",
       "      <td>Prod002</td>\n",
       "      <td>Ointment</td>\n",
       "    </tr>\n",
       "    <tr>\n",
       "      <th>5</th>\n",
       "      <td>Prod003</td>\n",
       "      <td>Tablet</td>\n",
       "    </tr>\n",
       "    <tr>\n",
       "      <th>12</th>\n",
       "      <td>Prod004</td>\n",
       "      <td>Syrup</td>\n",
       "    </tr>\n",
       "    <tr>\n",
       "      <th>14</th>\n",
       "      <td>Prod005</td>\n",
       "      <td>Tablet</td>\n",
       "    </tr>\n",
       "  </tbody>\n",
       "</table>\n",
       "</div>"
      ],
      "text/plain": [
       "   product_code product_type\n",
       "0       Prod001        Syrup\n",
       "2       Prod002     Ointment\n",
       "5       Prod003       Tablet\n",
       "12      Prod004        Syrup\n",
       "14      Prod005       Tablet"
      ]
     },
     "execution_count": 31,
     "metadata": {},
     "output_type": "execute_result"
    }
   ],
   "source": [
    "# Making products dataframe\n",
    "products = raw[['product_code','product_type']].drop_duplicates('product_code')\n",
    "\n",
    "# Sort in ascending product_code \n",
    "products.sort_values(by='product_code',ascending=True).head()"
   ]
  },
  {
   "cell_type": "code",
   "execution_count": 32,
   "id": "b125033a",
   "metadata": {},
   "outputs": [],
   "source": [
    "# Download products table\n",
    "\n",
    "products.sort_values(by='product_code',ascending=True).to_csv(r'C:\\Users\\atifn\\Downloads\\products.csv',index=False,header=True)"
   ]
  },
  {
   "cell_type": "markdown",
   "id": "5224ed95",
   "metadata": {},
   "source": [
    "#### 4. Making upc table"
   ]
  },
  {
   "cell_type": "code",
   "execution_count": 33,
   "id": "428b7b69",
   "metadata": {},
   "outputs": [
    {
     "data": {
      "text/html": [
       "<div>\n",
       "<style scoped>\n",
       "    .dataframe tbody tr th:only-of-type {\n",
       "        vertical-align: middle;\n",
       "    }\n",
       "\n",
       "    .dataframe tbody tr th {\n",
       "        vertical-align: top;\n",
       "    }\n",
       "\n",
       "    .dataframe thead th {\n",
       "        text-align: right;\n",
       "    }\n",
       "</style>\n",
       "<table border=\"1\" class=\"dataframe\">\n",
       "  <thead>\n",
       "    <tr style=\"text-align: right;\">\n",
       "      <th></th>\n",
       "      <th>product_code</th>\n",
       "      <th>upc</th>\n",
       "    </tr>\n",
       "  </thead>\n",
       "  <tbody>\n",
       "    <tr>\n",
       "      <th>0</th>\n",
       "      <td>Prod001</td>\n",
       "      <td>272.184000</td>\n",
       "    </tr>\n",
       "    <tr>\n",
       "      <th>2</th>\n",
       "      <td>Prod002</td>\n",
       "      <td>37.989600</td>\n",
       "    </tr>\n",
       "    <tr>\n",
       "      <th>5</th>\n",
       "      <td>Prod003</td>\n",
       "      <td>646.631700</td>\n",
       "    </tr>\n",
       "    <tr>\n",
       "      <th>12</th>\n",
       "      <td>Prod004</td>\n",
       "      <td>17.955600</td>\n",
       "    </tr>\n",
       "    <tr>\n",
       "      <th>14</th>\n",
       "      <td>Prod005</td>\n",
       "      <td>108.441086</td>\n",
       "    </tr>\n",
       "  </tbody>\n",
       "</table>\n",
       "</div>"
      ],
      "text/plain": [
       "   product_code         upc\n",
       "0       Prod001  272.184000\n",
       "2       Prod002   37.989600\n",
       "5       Prod003  646.631700\n",
       "12      Prod004   17.955600\n",
       "14      Prod005  108.441086"
      ]
     },
     "execution_count": 33,
     "metadata": {},
     "output_type": "execute_result"
    }
   ],
   "source": [
    "# Making upc dataframe\n",
    "upc = raw[['product_code','upc']].drop_duplicates('product_code')\n",
    "\n",
    "# Sort in ascending product_code \n",
    "upc.sort_values(by='product_code',ascending=True).head()"
   ]
  },
  {
   "cell_type": "code",
   "execution_count": 34,
   "id": "7b41dc06",
   "metadata": {},
   "outputs": [],
   "source": [
    "# Download upc table\n",
    "\n",
    "upc.sort_values(by='product_code',ascending=True).to_csv(r'C:\\Users\\atifn\\Downloads\\upc.csv',index=False,header=True)"
   ]
  },
  {
   "cell_type": "markdown",
   "id": "45b38299",
   "metadata": {},
   "source": [
    "#### 5. Making transaction table\n",
    "Transaction table would be the raw table after data cleaning."
   ]
  },
  {
   "cell_type": "code",
   "execution_count": 35,
   "id": "3378e7c6",
   "metadata": {},
   "outputs": [
    {
     "data": {
      "text/html": [
       "<div>\n",
       "<style scoped>\n",
       "    .dataframe tbody tr th:only-of-type {\n",
       "        vertical-align: middle;\n",
       "    }\n",
       "\n",
       "    .dataframe tbody tr th {\n",
       "        vertical-align: top;\n",
       "    }\n",
       "\n",
       "    .dataframe thead th {\n",
       "        text-align: right;\n",
       "    }\n",
       "</style>\n",
       "<table border=\"1\" class=\"dataframe\">\n",
       "  <thead>\n",
       "    <tr style=\"text-align: right;\">\n",
       "      <th></th>\n",
       "      <th>product_code</th>\n",
       "      <th>product_type</th>\n",
       "      <th>customer_code</th>\n",
       "      <th>market_code</th>\n",
       "      <th>market_name</th>\n",
       "      <th>order_date</th>\n",
       "      <th>sales_qty</th>\n",
       "      <th>upc</th>\n",
       "      <th>sales_amount</th>\n",
       "      <th>zone</th>\n",
       "      <th>net_profit</th>\n",
       "    </tr>\n",
       "  </thead>\n",
       "  <tbody>\n",
       "    <tr>\n",
       "      <th>0</th>\n",
       "      <td>Prod001</td>\n",
       "      <td>Syrup</td>\n",
       "      <td>Cus001</td>\n",
       "      <td>Mark001</td>\n",
       "      <td>Darbhanga</td>\n",
       "      <td>10-10-2017</td>\n",
       "      <td>100</td>\n",
       "      <td>272.1840</td>\n",
       "      <td>41241</td>\n",
       "      <td>Bihar</td>\n",
       "      <td>14022.6000</td>\n",
       "    </tr>\n",
       "    <tr>\n",
       "      <th>2</th>\n",
       "      <td>Prod002</td>\n",
       "      <td>Ointment</td>\n",
       "      <td>Cus003</td>\n",
       "      <td>Mark003</td>\n",
       "      <td>Bhagalpur</td>\n",
       "      <td>06-04-2018</td>\n",
       "      <td>1</td>\n",
       "      <td>37.9896</td>\n",
       "      <td>875</td>\n",
       "      <td>Bihar</td>\n",
       "      <td>837.0104</td>\n",
       "    </tr>\n",
       "    <tr>\n",
       "      <th>3</th>\n",
       "      <td>Prod002</td>\n",
       "      <td>Ointment</td>\n",
       "      <td>Cus003</td>\n",
       "      <td>Mark003</td>\n",
       "      <td>Bhagalpur</td>\n",
       "      <td>11-04-2018</td>\n",
       "      <td>1</td>\n",
       "      <td>37.9896</td>\n",
       "      <td>583</td>\n",
       "      <td>Bihar</td>\n",
       "      <td>545.0104</td>\n",
       "    </tr>\n",
       "    <tr>\n",
       "      <th>4</th>\n",
       "      <td>Prod002</td>\n",
       "      <td>Ointment</td>\n",
       "      <td>Cus004</td>\n",
       "      <td>Mark003</td>\n",
       "      <td>Bhagalpur</td>\n",
       "      <td>18-06-2018</td>\n",
       "      <td>6</td>\n",
       "      <td>37.9896</td>\n",
       "      <td>7176</td>\n",
       "      <td>Bihar</td>\n",
       "      <td>6948.0624</td>\n",
       "    </tr>\n",
       "    <tr>\n",
       "      <th>5</th>\n",
       "      <td>Prod003</td>\n",
       "      <td>Tablet</td>\n",
       "      <td>Cus005</td>\n",
       "      <td>Mark004</td>\n",
       "      <td>Muzaffarpur</td>\n",
       "      <td>20-11-2017</td>\n",
       "      <td>59</td>\n",
       "      <td>646.6317</td>\n",
       "      <td>40000</td>\n",
       "      <td>Bihar</td>\n",
       "      <td>1848.7297</td>\n",
       "    </tr>\n",
       "  </tbody>\n",
       "</table>\n",
       "</div>"
      ],
      "text/plain": [
       "  product_code product_type customer_code market_code  market_name  \\\n",
       "0      Prod001        Syrup        Cus001     Mark001    Darbhanga   \n",
       "2      Prod002     Ointment        Cus003     Mark003    Bhagalpur   \n",
       "3      Prod002     Ointment        Cus003     Mark003    Bhagalpur   \n",
       "4      Prod002     Ointment        Cus004     Mark003    Bhagalpur   \n",
       "5      Prod003       Tablet        Cus005     Mark004  Muzaffarpur   \n",
       "\n",
       "   order_date  sales_qty       upc  sales_amount   zone  net_profit  \n",
       "0  10-10-2017        100  272.1840         41241  Bihar  14022.6000  \n",
       "2  06-04-2018          1   37.9896           875  Bihar    837.0104  \n",
       "3  11-04-2018          1   37.9896           583  Bihar    545.0104  \n",
       "4  18-06-2018          6   37.9896          7176  Bihar   6948.0624  \n",
       "5  20-11-2017         59  646.6317         40000  Bihar   1848.7297  "
      ]
     },
     "execution_count": 35,
     "metadata": {},
     "output_type": "execute_result"
    }
   ],
   "source": [
    "transaction = raw\n",
    "transaction.head()"
   ]
  },
  {
   "cell_type": "code",
   "execution_count": 36,
   "id": "44b66643",
   "metadata": {},
   "outputs": [],
   "source": [
    "# Download transaction table\n",
    "\n",
    "transaction.to_csv(r'C:\\Users\\atifn\\Downloads\\transaction.csv',index=False,header=True)"
   ]
  }
 ],
 "metadata": {
  "kernelspec": {
   "display_name": "Python 3",
   "language": "python",
   "name": "python3"
  },
  "language_info": {
   "codemirror_mode": {
    "name": "ipython",
    "version": 3
   },
   "file_extension": ".py",
   "mimetype": "text/x-python",
   "name": "python",
   "nbconvert_exporter": "python",
   "pygments_lexer": "ipython3",
   "version": "3.8.8"
  }
 },
 "nbformat": 4,
 "nbformat_minor": 5
}
