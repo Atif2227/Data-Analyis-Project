{
 "cells": [
  {
   "cell_type": "code",
   "execution_count": 1,
   "id": "a35edd6c",
   "metadata": {},
   "outputs": [],
   "source": [
    "import pandas as pd\n",
    "import numpy as np\n",
    "import warnings\n",
    "warnings.filterwarnings(\"ignore\") "
   ]
  },
  {
   "cell_type": "code",
   "execution_count": 2,
   "id": "baa1ad5e",
   "metadata": {},
   "outputs": [],
   "source": [
    "df = pd.read_csv('transaction.csv')"
   ]
  },
  {
   "cell_type": "code",
   "execution_count": 3,
   "id": "b705f633",
   "metadata": {},
   "outputs": [
    {
     "data": {
      "text/html": [
       "<div>\n",
       "<style scoped>\n",
       "    .dataframe tbody tr th:only-of-type {\n",
       "        vertical-align: middle;\n",
       "    }\n",
       "\n",
       "    .dataframe tbody tr th {\n",
       "        vertical-align: top;\n",
       "    }\n",
       "\n",
       "    .dataframe thead th {\n",
       "        text-align: right;\n",
       "    }\n",
       "</style>\n",
       "<table border=\"1\" class=\"dataframe\">\n",
       "  <thead>\n",
       "    <tr style=\"text-align: right;\">\n",
       "      <th></th>\n",
       "      <th>product_code</th>\n",
       "      <th>product_type</th>\n",
       "      <th>customer_code</th>\n",
       "      <th>market_code</th>\n",
       "      <th>market_name</th>\n",
       "      <th>order_date</th>\n",
       "      <th>sales_qty</th>\n",
       "      <th>upc</th>\n",
       "      <th>sales_amount</th>\n",
       "      <th>zone</th>\n",
       "      <th>net_profit</th>\n",
       "    </tr>\n",
       "  </thead>\n",
       "  <tbody>\n",
       "    <tr>\n",
       "      <th>0</th>\n",
       "      <td>Prod001</td>\n",
       "      <td>Syrup</td>\n",
       "      <td>Cus001</td>\n",
       "      <td>Mark001</td>\n",
       "      <td>Darbhanga</td>\n",
       "      <td>10-10-2017</td>\n",
       "      <td>100</td>\n",
       "      <td>272.1840</td>\n",
       "      <td>41241</td>\n",
       "      <td>Bihar</td>\n",
       "      <td>14022.6000</td>\n",
       "    </tr>\n",
       "    <tr>\n",
       "      <th>1</th>\n",
       "      <td>Prod002</td>\n",
       "      <td>Ointment</td>\n",
       "      <td>Cus003</td>\n",
       "      <td>Mark003</td>\n",
       "      <td>Bhagalpur</td>\n",
       "      <td>06-04-2018</td>\n",
       "      <td>1</td>\n",
       "      <td>37.9896</td>\n",
       "      <td>875</td>\n",
       "      <td>Bihar</td>\n",
       "      <td>837.0104</td>\n",
       "    </tr>\n",
       "    <tr>\n",
       "      <th>2</th>\n",
       "      <td>Prod002</td>\n",
       "      <td>Ointment</td>\n",
       "      <td>Cus003</td>\n",
       "      <td>Mark003</td>\n",
       "      <td>Bhagalpur</td>\n",
       "      <td>11-04-2018</td>\n",
       "      <td>1</td>\n",
       "      <td>37.9896</td>\n",
       "      <td>583</td>\n",
       "      <td>Bihar</td>\n",
       "      <td>545.0104</td>\n",
       "    </tr>\n",
       "    <tr>\n",
       "      <th>3</th>\n",
       "      <td>Prod002</td>\n",
       "      <td>Ointment</td>\n",
       "      <td>Cus004</td>\n",
       "      <td>Mark003</td>\n",
       "      <td>Bhagalpur</td>\n",
       "      <td>18-06-2018</td>\n",
       "      <td>6</td>\n",
       "      <td>37.9896</td>\n",
       "      <td>7176</td>\n",
       "      <td>Bihar</td>\n",
       "      <td>6948.0624</td>\n",
       "    </tr>\n",
       "    <tr>\n",
       "      <th>4</th>\n",
       "      <td>Prod003</td>\n",
       "      <td>Tablet</td>\n",
       "      <td>Cus005</td>\n",
       "      <td>Mark004</td>\n",
       "      <td>Muzaffarpur</td>\n",
       "      <td>20-11-2017</td>\n",
       "      <td>59</td>\n",
       "      <td>646.6317</td>\n",
       "      <td>40000</td>\n",
       "      <td>Bihar</td>\n",
       "      <td>1848.7297</td>\n",
       "    </tr>\n",
       "  </tbody>\n",
       "</table>\n",
       "</div>"
      ],
      "text/plain": [
       "  product_code product_type customer_code market_code  market_name  \\\n",
       "0      Prod001        Syrup        Cus001     Mark001    Darbhanga   \n",
       "1      Prod002     Ointment        Cus003     Mark003    Bhagalpur   \n",
       "2      Prod002     Ointment        Cus003     Mark003    Bhagalpur   \n",
       "3      Prod002     Ointment        Cus004     Mark003    Bhagalpur   \n",
       "4      Prod003       Tablet        Cus005     Mark004  Muzaffarpur   \n",
       "\n",
       "   order_date  sales_qty       upc  sales_amount   zone  net_profit  \n",
       "0  10-10-2017        100  272.1840         41241  Bihar  14022.6000  \n",
       "1  06-04-2018          1   37.9896           875  Bihar    837.0104  \n",
       "2  11-04-2018          1   37.9896           583  Bihar    545.0104  \n",
       "3  18-06-2018          6   37.9896          7176  Bihar   6948.0624  \n",
       "4  20-11-2017         59  646.6317         40000  Bihar   1848.7297  "
      ]
     },
     "execution_count": 3,
     "metadata": {},
     "output_type": "execute_result"
    }
   ],
   "source": [
    "df.head()"
   ]
  },
  {
   "cell_type": "code",
   "execution_count": 4,
   "id": "08313998",
   "metadata": {},
   "outputs": [
    {
     "data": {
      "text/plain": [
       "product_code     0\n",
       "product_type     0\n",
       "customer_code    0\n",
       "market_code      0\n",
       "market_name      0\n",
       "order_date       0\n",
       "sales_qty        0\n",
       "upc              0\n",
       "sales_amount     0\n",
       "zone             0\n",
       "net_profit       0\n",
       "dtype: int64"
      ]
     },
     "execution_count": 4,
     "metadata": {},
     "output_type": "execute_result"
    }
   ],
   "source": [
    "(df.iloc[:,0:df.shape[1]]==0).sum()"
   ]
  },
  {
   "cell_type": "markdown",
   "id": "d32d2150",
   "metadata": {},
   "source": [
    "As the data has been cleaned in previous steps, data cleaning is not required now."
   ]
  },
  {
   "cell_type": "code",
   "execution_count": 5,
   "id": "7aa693b2",
   "metadata": {},
   "outputs": [
    {
     "name": "stdout",
     "output_type": "stream",
     "text": [
      "<class 'pandas.core.frame.DataFrame'>\n",
      "RangeIndex: 148397 entries, 0 to 148396\n",
      "Data columns (total 11 columns):\n",
      " #   Column         Non-Null Count   Dtype  \n",
      "---  ------         --------------   -----  \n",
      " 0   product_code   148397 non-null  object \n",
      " 1   product_type   148397 non-null  object \n",
      " 2   customer_code  148397 non-null  object \n",
      " 3   market_code    148397 non-null  object \n",
      " 4   market_name    148397 non-null  object \n",
      " 5   order_date     148397 non-null  object \n",
      " 6   sales_qty      148397 non-null  int64  \n",
      " 7   upc            148397 non-null  float64\n",
      " 8   sales_amount   148397 non-null  int64  \n",
      " 9   zone           148397 non-null  object \n",
      " 10  net_profit     148397 non-null  float64\n",
      "dtypes: float64(2), int64(2), object(7)\n",
      "memory usage: 12.5+ MB\n"
     ]
    }
   ],
   "source": [
    "df.info()"
   ]
  },
  {
   "cell_type": "markdown",
   "id": "29e7b259",
   "metadata": {},
   "source": [
    "### Differentiate input columns and output column"
   ]
  },
  {
   "cell_type": "code",
   "execution_count": 6,
   "id": "aa39f0dc",
   "metadata": {},
   "outputs": [
    {
     "data": {
      "text/plain": [
       "Index(['product_code', 'product_type', 'customer_code', 'market_code',\n",
       "       'market_name', 'order_date', 'sales_qty', 'upc', 'sales_amount', 'zone',\n",
       "       'net_profit'],\n",
       "      dtype='object')"
      ]
     },
     "execution_count": 6,
     "metadata": {},
     "output_type": "execute_result"
    }
   ],
   "source": [
    "df.columns"
   ]
  },
  {
   "cell_type": "code",
   "execution_count": 7,
   "id": "ee0e4957",
   "metadata": {},
   "outputs": [],
   "source": [
    "input_col = ['product_code', 'product_type', 'customer_code', 'market_code',\n",
    "       'market_name', 'order_date', 'sales_qty', 'upc', 'sales_amount', 'zone']\n",
    "target_col = 'net_profit'"
   ]
  },
  {
   "cell_type": "code",
   "execution_count": 8,
   "id": "d2b66347",
   "metadata": {},
   "outputs": [],
   "source": [
    "inputs = df[input_col]\n",
    "target = df[target_col]"
   ]
  },
  {
   "cell_type": "markdown",
   "id": "9e6b6740",
   "metadata": {},
   "source": [
    "### Identify numerical and categorical columns"
   ]
  },
  {
   "cell_type": "code",
   "execution_count": 9,
   "id": "86bec007",
   "metadata": {},
   "outputs": [],
   "source": [
    "num_col = ['sales_qty','upc', 'sales_amount']\n",
    "\n",
    "cat_col = ['product_code', 'product_type', 'customer_code', 'market_code',\n",
    "       'market_name', 'order_date','zone']"
   ]
  },
  {
   "cell_type": "markdown",
   "id": "b713aa70",
   "metadata": {},
   "source": [
    "### Scale numeric columns"
   ]
  },
  {
   "cell_type": "code",
   "execution_count": 10,
   "id": "2631d756",
   "metadata": {},
   "outputs": [],
   "source": [
    "from sklearn.preprocessing import MinMaxScaler"
   ]
  },
  {
   "cell_type": "code",
   "execution_count": 11,
   "id": "e8406df6",
   "metadata": {},
   "outputs": [],
   "source": [
    "scaler = MinMaxScaler().fit(inputs[num_col])"
   ]
  },
  {
   "cell_type": "code",
   "execution_count": 12,
   "id": "f9b2e242",
   "metadata": {},
   "outputs": [],
   "source": [
    "inputs[num_col] = scaler.transform(inputs[num_col])"
   ]
  },
  {
   "cell_type": "code",
   "execution_count": 13,
   "id": "f7c0b4c8",
   "metadata": {},
   "outputs": [
    {
     "data": {
      "text/html": [
       "<div>\n",
       "<style scoped>\n",
       "    .dataframe tbody tr th:only-of-type {\n",
       "        vertical-align: middle;\n",
       "    }\n",
       "\n",
       "    .dataframe tbody tr th {\n",
       "        vertical-align: top;\n",
       "    }\n",
       "\n",
       "    .dataframe thead th {\n",
       "        text-align: right;\n",
       "    }\n",
       "</style>\n",
       "<table border=\"1\" class=\"dataframe\">\n",
       "  <thead>\n",
       "    <tr style=\"text-align: right;\">\n",
       "      <th></th>\n",
       "      <th>sales_qty</th>\n",
       "      <th>upc</th>\n",
       "      <th>sales_amount</th>\n",
       "    </tr>\n",
       "  </thead>\n",
       "  <tbody>\n",
       "    <tr>\n",
       "      <th>0</th>\n",
       "      <td>0.007047</td>\n",
       "      <td>0.013914</td>\n",
       "      <td>0.027292</td>\n",
       "    </tr>\n",
       "    <tr>\n",
       "      <th>1</th>\n",
       "      <td>0.000000</td>\n",
       "      <td>0.001904</td>\n",
       "      <td>0.000576</td>\n",
       "    </tr>\n",
       "    <tr>\n",
       "      <th>2</th>\n",
       "      <td>0.000000</td>\n",
       "      <td>0.001904</td>\n",
       "      <td>0.000383</td>\n",
       "    </tr>\n",
       "    <tr>\n",
       "      <th>3</th>\n",
       "      <td>0.000356</td>\n",
       "      <td>0.001904</td>\n",
       "      <td>0.004746</td>\n",
       "    </tr>\n",
       "    <tr>\n",
       "      <th>4</th>\n",
       "      <td>0.004129</td>\n",
       "      <td>0.033115</td>\n",
       "      <td>0.026470</td>\n",
       "    </tr>\n",
       "    <tr>\n",
       "      <th>...</th>\n",
       "      <td>...</td>\n",
       "      <td>...</td>\n",
       "      <td>...</td>\n",
       "    </tr>\n",
       "    <tr>\n",
       "      <th>148392</th>\n",
       "      <td>0.000000</td>\n",
       "      <td>0.020549</td>\n",
       "      <td>0.000257</td>\n",
       "    </tr>\n",
       "    <tr>\n",
       "      <th>148393</th>\n",
       "      <td>0.000000</td>\n",
       "      <td>0.020549</td>\n",
       "      <td>0.000438</td>\n",
       "    </tr>\n",
       "    <tr>\n",
       "      <th>148394</th>\n",
       "      <td>0.000000</td>\n",
       "      <td>0.020549</td>\n",
       "      <td>0.000410</td>\n",
       "    </tr>\n",
       "    <tr>\n",
       "      <th>148395</th>\n",
       "      <td>0.000427</td>\n",
       "      <td>0.020549</td>\n",
       "      <td>0.005705</td>\n",
       "    </tr>\n",
       "    <tr>\n",
       "      <th>148396</th>\n",
       "      <td>0.000142</td>\n",
       "      <td>0.020549</td>\n",
       "      <td>0.002506</td>\n",
       "    </tr>\n",
       "  </tbody>\n",
       "</table>\n",
       "<p>148397 rows × 3 columns</p>\n",
       "</div>"
      ],
      "text/plain": [
       "        sales_qty       upc  sales_amount\n",
       "0        0.007047  0.013914      0.027292\n",
       "1        0.000000  0.001904      0.000576\n",
       "2        0.000000  0.001904      0.000383\n",
       "3        0.000356  0.001904      0.004746\n",
       "4        0.004129  0.033115      0.026470\n",
       "...           ...       ...           ...\n",
       "148392   0.000000  0.020549      0.000257\n",
       "148393   0.000000  0.020549      0.000438\n",
       "148394   0.000000  0.020549      0.000410\n",
       "148395   0.000427  0.020549      0.005705\n",
       "148396   0.000142  0.020549      0.002506\n",
       "\n",
       "[148397 rows x 3 columns]"
      ]
     },
     "execution_count": 13,
     "metadata": {},
     "output_type": "execute_result"
    }
   ],
   "source": [
    "inputs[num_col]"
   ]
  },
  {
   "cell_type": "markdown",
   "id": "80b1004f",
   "metadata": {},
   "source": [
    "### Encode categorical columns into numerical"
   ]
  },
  {
   "cell_type": "code",
   "execution_count": 14,
   "id": "f8b98158",
   "metadata": {},
   "outputs": [],
   "source": [
    "from sklearn.preprocessing import OneHotEncoder"
   ]
  },
  {
   "cell_type": "code",
   "execution_count": 15,
   "id": "5f0dbaa3",
   "metadata": {},
   "outputs": [],
   "source": [
    "encoder = OneHotEncoder(sparse=False, handle_unknown='ignore').fit(inputs[cat_col])\n",
    "encoded_cols = list(encoder.get_feature_names_out(cat_col))"
   ]
  },
  {
   "cell_type": "code",
   "execution_count": 16,
   "id": "80f5041d",
   "metadata": {},
   "outputs": [],
   "source": [
    "inputs[encoded_cols] = encoder.transform(inputs[cat_col])"
   ]
  },
  {
   "cell_type": "markdown",
   "id": "1fa03922",
   "metadata": {},
   "source": [
    "Finally, let's extract out all the numeric data for training."
   ]
  },
  {
   "cell_type": "code",
   "execution_count": 17,
   "id": "0f5a1081",
   "metadata": {},
   "outputs": [],
   "source": [
    "X = inputs[num_col + encoded_cols]"
   ]
  },
  {
   "cell_type": "markdown",
   "id": "174b16e6",
   "metadata": {},
   "source": [
    "So, X is the input df and target is the target (y) column."
   ]
  },
  {
   "cell_type": "code",
   "execution_count": 18,
   "id": "0535092a",
   "metadata": {},
   "outputs": [
    {
     "data": {
      "text/plain": [
       "Index(['sales_qty', 'upc', 'sales_amount', 'product_code_Prod001',\n",
       "       'product_code_Prod002', 'product_code_Prod003', 'product_code_Prod004',\n",
       "       'product_code_Prod005', 'product_code_Prod006', 'product_code_Prod007',\n",
       "       ...\n",
       "       'order_date_31-08-2018', 'order_date_31-10-2017',\n",
       "       'order_date_31-10-2018', 'order_date_31-10-2019',\n",
       "       'order_date_31-12-2018', 'order_date_31-12-2019', 'zone_Bihar',\n",
       "       'zone_Jharkhand', 'zone_UP', 'zone_West_Bengal'],\n",
       "      dtype='object', length=1222)"
      ]
     },
     "execution_count": 18,
     "metadata": {},
     "output_type": "execute_result"
    }
   ],
   "source": [
    "X.columns"
   ]
  },
  {
   "cell_type": "code",
   "execution_count": 19,
   "id": "b15b4843",
   "metadata": {},
   "outputs": [
    {
     "data": {
      "text/plain": [
       "1222"
      ]
     },
     "execution_count": 19,
     "metadata": {},
     "output_type": "execute_result"
    }
   ],
   "source": [
    "len(X.columns)"
   ]
  },
  {
   "cell_type": "markdown",
   "id": "af20815d",
   "metadata": {},
   "source": [
    "## XGradient Boosting"
   ]
  },
  {
   "cell_type": "code",
   "execution_count": 20,
   "id": "cd42ce31",
   "metadata": {},
   "outputs": [],
   "source": [
    "from xgboost import XGBRegressor"
   ]
  },
  {
   "cell_type": "code",
   "execution_count": 21,
   "id": "6458d6b2",
   "metadata": {},
   "outputs": [],
   "source": [
    "# ?XGBRegressor (random_state=42, n_jobs=-1, n_estimators=20, max_depth=4)"
   ]
  },
  {
   "cell_type": "code",
   "execution_count": 22,
   "id": "6386765f",
   "metadata": {},
   "outputs": [],
   "source": [
    "model = XGBRegressor()"
   ]
  },
  {
   "cell_type": "code",
   "execution_count": 23,
   "id": "9fbf016e",
   "metadata": {},
   "outputs": [
    {
     "name": "stdout",
     "output_type": "stream",
     "text": [
      "Wall time: 3min 41s\n"
     ]
    },
    {
     "data": {
      "text/plain": [
       "XGBRegressor(base_score=0.5, booster='gbtree', colsample_bylevel=1,\n",
       "             colsample_bynode=1, colsample_bytree=1, enable_categorical=False,\n",
       "             gamma=0, gpu_id=-1, importance_type=None,\n",
       "             interaction_constraints='', learning_rate=0.300000012,\n",
       "             max_delta_step=0, max_depth=6, min_child_weight=1, missing=nan,\n",
       "             monotone_constraints='()', n_estimators=100, n_jobs=8,\n",
       "             num_parallel_tree=1, predictor='auto', random_state=0, reg_alpha=0,\n",
       "             reg_lambda=1, scale_pos_weight=1, subsample=1, tree_method='exact',\n",
       "             validate_parameters=1, verbosity=None)"
      ]
     },
     "execution_count": 23,
     "metadata": {},
     "output_type": "execute_result"
    }
   ],
   "source": [
    "%%time\n",
    "model.fit(X, target)"
   ]
  },
  {
   "cell_type": "markdown",
   "id": "43b70653",
   "metadata": {},
   "source": [
    "#### Prediction"
   ]
  },
  {
   "cell_type": "code",
   "execution_count": 24,
   "id": "6d163053",
   "metadata": {},
   "outputs": [],
   "source": [
    "preds = model.predict(X)"
   ]
  },
  {
   "cell_type": "code",
   "execution_count": 25,
   "id": "8e66c3d3",
   "metadata": {},
   "outputs": [
    {
     "data": {
      "text/plain": [
       "array([20151.877  ,   788.0244 ,   495.96692, ...,   367.80884,\n",
       "        6678.6865 ,  2515.1406 ], dtype=float32)"
      ]
     },
     "execution_count": 25,
     "metadata": {},
     "output_type": "execute_result"
    }
   ],
   "source": [
    "preds"
   ]
  },
  {
   "cell_type": "markdown",
   "id": "dd35c390",
   "metadata": {},
   "source": [
    "#### Evaluation"
   ]
  },
  {
   "cell_type": "code",
   "execution_count": 26,
   "id": "f0578014",
   "metadata": {},
   "outputs": [],
   "source": [
    "from sklearn.metrics import mean_squared_error\n",
    "\n",
    "def rmse(a, b):\n",
    "    return mean_squared_error(a, b, squared=False)"
   ]
  },
  {
   "cell_type": "code",
   "execution_count": 27,
   "id": "6fc610c9",
   "metadata": {},
   "outputs": [
    {
     "data": {
      "text/plain": [
       "847.48387598766"
      ]
     },
     "execution_count": 27,
     "metadata": {},
     "output_type": "execute_result"
    }
   ],
   "source": [
    "rmse(preds, target)"
   ]
  },
  {
   "cell_type": "code",
   "execution_count": 28,
   "id": "78560e95",
   "metadata": {},
   "outputs": [
    {
     "data": {
      "text/plain": [
       "0         14022.600000\n",
       "1           837.010400\n",
       "2           545.010400\n",
       "3          6948.062400\n",
       "4          1848.729700\n",
       "              ...     \n",
       "148392       -7.582848\n",
       "148393      265.417152\n",
       "148394      223.417152\n",
       "148395     5813.920066\n",
       "148396     2587.251457\n",
       "Name: net_profit, Length: 148397, dtype: float64"
      ]
     },
     "execution_count": 28,
     "metadata": {},
     "output_type": "execute_result"
    }
   ],
   "source": [
    "df[target_col]"
   ]
  },
  {
   "cell_type": "markdown",
   "id": "e671f59c",
   "metadata": {},
   "source": [
    "#### Feature Importance"
   ]
  },
  {
   "cell_type": "code",
   "execution_count": 29,
   "id": "efbfead3",
   "metadata": {},
   "outputs": [
    {
     "data": {
      "text/html": [
       "<div>\n",
       "<style scoped>\n",
       "    .dataframe tbody tr th:only-of-type {\n",
       "        vertical-align: middle;\n",
       "    }\n",
       "\n",
       "    .dataframe tbody tr th {\n",
       "        vertical-align: top;\n",
       "    }\n",
       "\n",
       "    .dataframe thead th {\n",
       "        text-align: right;\n",
       "    }\n",
       "</style>\n",
       "<table border=\"1\" class=\"dataframe\">\n",
       "  <thead>\n",
       "    <tr style=\"text-align: right;\">\n",
       "      <th></th>\n",
       "      <th>Features</th>\n",
       "      <th>Importance</th>\n",
       "    </tr>\n",
       "  </thead>\n",
       "  <tbody>\n",
       "    <tr>\n",
       "      <th>165</th>\n",
       "      <td>product_code_Prod163</td>\n",
       "      <td>0.756589</td>\n",
       "    </tr>\n",
       "    <tr>\n",
       "      <th>89</th>\n",
       "      <td>product_code_Prod087</td>\n",
       "      <td>0.125239</td>\n",
       "    </tr>\n",
       "    <tr>\n",
       "      <th>1</th>\n",
       "      <td>upc</td>\n",
       "      <td>0.097899</td>\n",
       "    </tr>\n",
       "    <tr>\n",
       "      <th>0</th>\n",
       "      <td>sales_qty</td>\n",
       "      <td>0.002898</td>\n",
       "    </tr>\n",
       "    <tr>\n",
       "      <th>127</th>\n",
       "      <td>product_code_Prod125</td>\n",
       "      <td>0.002395</td>\n",
       "    </tr>\n",
       "    <tr>\n",
       "      <th>85</th>\n",
       "      <td>product_code_Prod083</td>\n",
       "      <td>0.002061</td>\n",
       "    </tr>\n",
       "    <tr>\n",
       "      <th>2</th>\n",
       "      <td>sales_amount</td>\n",
       "      <td>0.001936</td>\n",
       "    </tr>\n",
       "    <tr>\n",
       "      <th>344</th>\n",
       "      <td>product_type_Syrup</td>\n",
       "      <td>0.001927</td>\n",
       "    </tr>\n",
       "    <tr>\n",
       "      <th>384</th>\n",
       "      <td>market_code_Mark001</td>\n",
       "      <td>0.001014</td>\n",
       "    </tr>\n",
       "    <tr>\n",
       "      <th>92</th>\n",
       "      <td>product_code_Prod090</td>\n",
       "      <td>0.000896</td>\n",
       "    </tr>\n",
       "  </tbody>\n",
       "</table>\n",
       "</div>"
      ],
      "text/plain": [
       "                 Features  Importance\n",
       "165  product_code_Prod163    0.756589\n",
       "89   product_code_Prod087    0.125239\n",
       "1                     upc    0.097899\n",
       "0               sales_qty    0.002898\n",
       "127  product_code_Prod125    0.002395\n",
       "85   product_code_Prod083    0.002061\n",
       "2            sales_amount    0.001936\n",
       "344    product_type_Syrup    0.001927\n",
       "384   market_code_Mark001    0.001014\n",
       "92   product_code_Prod090    0.000896"
      ]
     },
     "execution_count": 29,
     "metadata": {},
     "output_type": "execute_result"
    }
   ],
   "source": [
    "importance_df = pd.DataFrame({\n",
    "    'Features': X.columns,\n",
    "    'Importance': model.feature_importances_\n",
    "}).sort_values('Importance',ascending = False)\n",
    "\n",
    "importance_df.head(10)"
   ]
  },
  {
   "cell_type": "code",
   "execution_count": 30,
   "id": "63d1117f",
   "metadata": {},
   "outputs": [
    {
     "data": {
      "text/plain": [
       "<AxesSubplot:title={'center':'Top 10 Importat Features by Their Weights'}, xlabel='Importance', ylabel='Features'>"
      ]
     },
     "execution_count": 30,
     "metadata": {},
     "output_type": "execute_result"
    },
    {
     "data": {
      "image/png": "[encoded data removed]",
      "text/plain": [
       "<Figure size 720x432 with 1 Axes>"
      ]
     },
     "metadata": {
      "needs_background": "light"
     },
     "output_type": "display_data"
    }
   ],
   "source": [
    "# Make a bar plot for the top ten important features\n",
    "\n",
    "import seaborn as sns\n",
    "from matplotlib import pyplot as plt\n",
    "plt.figure(figsize=(10,6))\n",
    "plt.title('Top 10 Importat Features by Their Weights')\n",
    "sns.barplot(data=importance_df.head(10), x='Importance', y='Features')"
   ]
  },
  {
   "cell_type": "markdown",
   "id": "da093edb",
   "metadata": {},
   "source": [
    "## XGradient Boosting With Splitted Data"
   ]
  },
  {
   "cell_type": "markdown",
   "id": "48be596b",
   "metadata": {},
   "source": [
    "Let's split the data into training and testing data set and then train Gradient Boosting on it. We will not use K-Fold splitting and validation in this case because K-Fold is good for small data."
   ]
  },
  {
   "cell_type": "code",
   "execution_count": 31,
   "id": "7c389041",
   "metadata": {},
   "outputs": [],
   "source": [
    "from sklearn.model_selection import train_test_split"
   ]
  },
  {
   "cell_type": "code",
   "execution_count": 32,
   "id": "2a46d746",
   "metadata": {},
   "outputs": [],
   "source": [
    "train_X,test_X,train_target,test_target = train_test_split(X,target,test_size=0.3,random_state=42)"
   ]
  },
  {
   "cell_type": "markdown",
   "id": "8157ce42",
   "metadata": {},
   "source": [
    "Let's make a helper function which would calculate RMSE for different ML-Regression algorithm."
   ]
  },
  {
   "cell_type": "code",
   "execution_count": 33,
   "id": "c470c686",
   "metadata": {},
   "outputs": [],
   "source": [
    "from sklearn.linear_model import LinearRegression\n",
    "from sklearn.linear_model import Ridge\n",
    "from sklearn.linear_model import Lasso\n",
    "from sklearn.tree import DecisionTreeRegressor\n",
    "from sklearn.svm import SVR\n",
    "from xgboost import XGBRegressor\n",
    "\n",
    "def train_test_rmse(model, train_X, train_target, test_X, test_target):\n",
    "    model.fit(train_X, train_target)\n",
    "    train_rmse = rmse(model.predict(train_X), train_target)\n",
    "    test_rmse = rmse(model.predict(test_X), test_target)\n",
    "    print(' Model:',model,'\\n','Train RMSE:',train_rmse,'\\n','Test RMSE:',test_rmse)\n",
    "    #return model, train_rmse, test_rmse"
   ]
  },
  {
   "cell_type": "code",
   "execution_count": 34,
   "id": "a89b5b79",
   "metadata": {},
   "outputs": [
    {
     "name": "stdout",
     "output_type": "stream",
     "text": [
      " Model: LinearRegression() \n",
      " Train RMSE: 14146.149348062661 \n",
      " Test RMSE: 4405348541661.3955\n"
     ]
    }
   ],
   "source": [
    "train_test_rmse(LinearRegression(), train_X, train_target, test_X, test_target)"
   ]
  },
  {
   "cell_type": "code",
   "execution_count": 35,
   "id": "7aacea99",
   "metadata": {},
   "outputs": [
    {
     "name": "stdout",
     "output_type": "stream",
     "text": [
      " Model: Ridge() \n",
      " Train RMSE: 49240.2546357613 \n",
      " Test RMSE: 16899.04573832682\n"
     ]
    }
   ],
   "source": [
    "train_test_rmse(Ridge(), train_X, train_target, test_X, test_target)"
   ]
  },
  {
   "cell_type": "code",
   "execution_count": 36,
   "id": "7cc97393",
   "metadata": {},
   "outputs": [
    {
     "name": "stdout",
     "output_type": "stream",
     "text": [
      " Model: Lasso() \n",
      " Train RMSE: 14213.49845408942 \n",
      " Test RMSE: 20735.35616495254\n"
     ]
    }
   ],
   "source": [
    "train_test_rmse(Lasso(), train_X, train_target, test_X, test_target)"
   ]
  },
  {
   "cell_type": "code",
   "execution_count": 37,
   "id": "99aaa2e9",
   "metadata": {},
   "outputs": [
    {
     "name": "stdout",
     "output_type": "stream",
     "text": [
      " Model: DecisionTreeRegressor() \n",
      " Train RMSE: 1.9746806294964207e-12 \n",
      " Test RMSE: 18231.61428590537\n"
     ]
    }
   ],
   "source": [
    "train_test_rmse(DecisionTreeRegressor(), train_X, train_target, test_X, test_target)"
   ]
  },
  {
   "cell_type": "code",
   "execution_count": 38,
   "id": "f822091a",
   "metadata": {},
   "outputs": [],
   "source": [
    "#train_test_rmse(SVR(), train_X, train_target, test_X, test_target)"
   ]
  },
  {
   "cell_type": "code",
   "execution_count": 39,
   "id": "0c3c726d",
   "metadata": {},
   "outputs": [
    {
     "name": "stdout",
     "output_type": "stream",
     "text": [
      " Model: XGBRegressor(base_score=0.5, booster='gbtree', colsample_bylevel=1,\n",
      "             colsample_bynode=1, colsample_bytree=1, enable_categorical=False,\n",
      "             gamma=0, gpu_id=-1, importance_type=None,\n",
      "             interaction_constraints='', learning_rate=0.300000012,\n",
      "             max_delta_step=0, max_depth=6, min_child_weight=1, missing=nan,\n",
      "             monotone_constraints='()', n_estimators=100, n_jobs=8,\n",
      "             num_parallel_tree=1, predictor='auto', random_state=0, reg_alpha=0,\n",
      "             reg_lambda=1, scale_pos_weight=1, subsample=1, tree_method='exact',\n",
      "             validate_parameters=1, verbosity=None) \n",
      " Train RMSE: 679.8010684006217 \n",
      " Test RMSE: 11067.628432146363\n"
     ]
    }
   ],
   "source": [
    "train_test_rmse(XGBRegressor(), train_X, train_target, test_X, test_target)"
   ]
  },
  {
   "cell_type": "markdown",
   "id": "e47152f4",
   "metadata": {},
   "source": [
    "    1. Lasso Regression and XGB regression models shown best results as compared to other regression algorithms.\n",
    "    2. We will pick XGB regressor and try to emprove the model even further with Hyperparameter Tuning."
   ]
  },
  {
   "cell_type": "markdown",
   "id": "32bcf333",
   "metadata": {},
   "source": [
    "## Model Improvement"
   ]
  },
  {
   "cell_type": "markdown",
   "id": "a52131f5",
   "metadata": {},
   "source": [
    "### Hyperparameter Tuning - XGBoost"
   ]
  },
  {
   "cell_type": "markdown",
   "id": "b4ef4c0f",
   "metadata": {},
   "source": [
    "Let's deine a helper function for tuning and testing hyperparameters."
   ]
  },
  {
   "cell_type": "code",
   "execution_count": 40,
   "id": "f2bc9ae2",
   "metadata": {},
   "outputs": [],
   "source": [
    "def test_params(**params):\n",
    "    model = XGBRegressor(n_jobs=-1, random_state=42, **params)\n",
    "    model.fit(train_X, train_target)\n",
    "    train_rmse = rmse(model.predict(train_X), train_target)\n",
    "    test_rmse = rmse(model.predict(test_X), test_target)\n",
    "    print('Train RMSE: {}, Test RMSE: {}'.format(train_rmse, test_rmse))"
   ]
  },
  {
   "cell_type": "code",
   "execution_count": 41,
   "id": "75b431ae",
   "metadata": {},
   "outputs": [
    {
     "name": "stdout",
     "output_type": "stream",
     "text": [
      "Train RMSE: 679.8010684006217, Test RMSE: 11067.628432146363\n"
     ]
    }
   ],
   "source": [
    "# Model With any Hyperparameter Tuning \n",
    "\n",
    "test_params()"
   ]
  },
  {
   "cell_type": "markdown",
   "id": "9a551088",
   "metadata": {},
   "source": [
    "#### `n_estimators`\n",
    "\n",
    "The number of trees to be created. More trees = greater capacity of the model.\n"
   ]
  },
  {
   "cell_type": "code",
   "execution_count": 42,
   "id": "b605d664",
   "metadata": {},
   "outputs": [
    {
     "name": "stdout",
     "output_type": "stream",
     "text": [
      "Train RMSE: 23497.367853593343, Test RMSE: 17162.288364310687\n"
     ]
    }
   ],
   "source": [
    "test_params(n_estimators=10)"
   ]
  },
  {
   "cell_type": "code",
   "execution_count": 43,
   "id": "0bddaf56",
   "metadata": {},
   "outputs": [
    {
     "name": "stdout",
     "output_type": "stream",
     "text": [
      "Train RMSE: 3002.248569643611, Test RMSE: 11871.92871056094\n"
     ]
    }
   ],
   "source": [
    "test_params(n_estimators=30)"
   ]
  },
  {
   "cell_type": "code",
   "execution_count": 44,
   "id": "556efa3d",
   "metadata": {},
   "outputs": [
    {
     "name": "stdout",
     "output_type": "stream",
     "text": [
      "Train RMSE: 679.8010684006217, Test RMSE: 11067.628432146363\n"
     ]
    }
   ],
   "source": [
    "test_params(n_estimators=100)"
   ]
  },
  {
   "cell_type": "code",
   "execution_count": 45,
   "id": "2a219ef5",
   "metadata": {},
   "outputs": [
    {
     "name": "stdout",
     "output_type": "stream",
     "text": [
      "Train RMSE: 281.91961719333653, Test RMSE: 11001.267886883588\n"
     ]
    }
   ],
   "source": [
    "test_params(n_estimators=240)"
   ]
  },
  {
   "cell_type": "markdown",
   "id": "e75381fd",
   "metadata": {},
   "source": [
    "#### `max_depth`\n",
    "\n",
    "As you increase the max depth of each tree, the capacity of the tree increases and it can capture more information about the training set."
   ]
  },
  {
   "cell_type": "code",
   "execution_count": 46,
   "id": "d01125e7",
   "metadata": {},
   "outputs": [
    {
     "name": "stdout",
     "output_type": "stream",
     "text": [
      "Train RMSE: 5064.169733987468, Test RMSE: 13271.797120335723\n"
     ]
    }
   ],
   "source": [
    "test_params(max_depth=2)"
   ]
  },
  {
   "cell_type": "code",
   "execution_count": 47,
   "id": "a573f81b",
   "metadata": {},
   "outputs": [
    {
     "name": "stdout",
     "output_type": "stream",
     "text": [
      "Train RMSE: 1011.1036946011195, Test RMSE: 13732.512814653099\n"
     ]
    }
   ],
   "source": [
    "test_params(max_depth=5)"
   ]
  },
  {
   "cell_type": "code",
   "execution_count": 48,
   "id": "2ea19459",
   "metadata": {},
   "outputs": [
    {
     "name": "stdout",
     "output_type": "stream",
     "text": [
      "Train RMSE: 269.502607884489, Test RMSE: 14929.074415061335\n"
     ]
    }
   ],
   "source": [
    "test_params(max_depth=10)"
   ]
  },
  {
   "cell_type": "markdown",
   "id": "4b0c0c44",
   "metadata": {},
   "source": [
    "#### `learning_rate`\n",
    "\n",
    "The scaling factor to be applied to the prediction of each tree. A very high learning rate (close to 1) will lead to overfitting, and a low learning rate (close to 0) will lead to underfitting."
   ]
  },
  {
   "cell_type": "code",
   "execution_count": 49,
   "id": "aded1b33",
   "metadata": {},
   "outputs": [
    {
     "name": "stdout",
     "output_type": "stream",
     "text": [
      "Train RMSE: 71300.04653750574, Test RMSE: 22990.776154199062\n"
     ]
    }
   ],
   "source": [
    "test_params(learning_rate=0.01)"
   ]
  },
  {
   "cell_type": "code",
   "execution_count": 50,
   "id": "66107c19",
   "metadata": {},
   "outputs": [
    {
     "name": "stdout",
     "output_type": "stream",
     "text": [
      "Train RMSE: 1998.3511984359966, Test RMSE: 12139.694862577831\n"
     ]
    }
   ],
   "source": [
    "test_params(learning_rate=0.1)"
   ]
  },
  {
   "cell_type": "code",
   "execution_count": 51,
   "id": "5c4025d1",
   "metadata": {},
   "outputs": [
    {
     "name": "stdout",
     "output_type": "stream",
     "text": [
      "Train RMSE: 679.8010684006217, Test RMSE: 11067.628432146363\n"
     ]
    }
   ],
   "source": [
    "test_params(learning_rate=0.3)"
   ]
  },
  {
   "cell_type": "code",
   "execution_count": 52,
   "id": "e21f34c8",
   "metadata": {},
   "outputs": [
    {
     "name": "stdout",
     "output_type": "stream",
     "text": [
      "Train RMSE: 378.4889771814677, Test RMSE: 12464.466545976189\n"
     ]
    }
   ],
   "source": [
    "test_params(learning_rate=0.9)"
   ]
  },
  {
   "cell_type": "code",
   "execution_count": 53,
   "id": "4764759f",
   "metadata": {},
   "outputs": [
    {
     "name": "stdout",
     "output_type": "stream",
     "text": [
      "Train RMSE: 373.352384057922, Test RMSE: 12755.837746845604\n"
     ]
    }
   ],
   "source": [
    "test_params(learning_rate=0.99)"
   ]
  },
  {
   "cell_type": "markdown",
   "id": "834256d2",
   "metadata": {},
   "source": [
    "#### `booster`\n",
    "\n",
    "Instead of using Decision Trees, XGBoost can also train a linear model for each iteration. This can be configured using `booster`."
   ]
  },
  {
   "cell_type": "code",
   "execution_count": 54,
   "id": "f92208e2",
   "metadata": {},
   "outputs": [
    {
     "name": "stdout",
     "output_type": "stream",
     "text": [
      "Train RMSE: 14146.152974322627, Test RMSE: 20193.600094195932\n"
     ]
    }
   ],
   "source": [
    "test_params(booster='gblinear')"
   ]
  },
  {
   "cell_type": "markdown",
   "id": "6266f404",
   "metadata": {},
   "source": [
    "#### Tuning hyperparemeters to get optimal values for all the hyperparameters would take time. I have done it by my self by running the model with different values for different hyperparameters and then concluded on the below demonstarted hyperparameter values for my final model. There is always a chance of improvement. "
   ]
  },
  {
   "cell_type": "markdown",
   "id": "5e7c72d1",
   "metadata": {},
   "source": [
    "### Putting all together"
   ]
  },
  {
   "cell_type": "code",
   "execution_count": 57,
   "id": "9c3b4777",
   "metadata": {},
   "outputs": [
    {
     "name": "stdout",
     "output_type": "stream",
     "text": [
      "Train RMSE: 34.254129473264044, Test RMSE: 15922.533031545408\n"
     ]
    }
   ],
   "source": [
    "test_params(n_estimators=1000, \n",
    "            learning_rate=0.2, \n",
    "            max_depth=10, \n",
    "            subsample=0.9, \n",
    "            colsample_bytree=0.7)"
   ]
  },
  {
   "cell_type": "markdown",
   "id": "637fa8e8",
   "metadata": {},
   "source": [
    "Let's compare the Predicted net_sales with the actual net sales."
   ]
  },
  {
   "cell_type": "code",
   "execution_count": 58,
   "id": "a4c10df8",
   "metadata": {},
   "outputs": [
    {
     "data": {
      "text/html": [
       "<div>\n",
       "<style scoped>\n",
       "    .dataframe tbody tr th:only-of-type {\n",
       "        vertical-align: middle;\n",
       "    }\n",
       "\n",
       "    .dataframe tbody tr th {\n",
       "        vertical-align: top;\n",
       "    }\n",
       "\n",
       "    .dataframe thead th {\n",
       "        text-align: right;\n",
       "    }\n",
       "</style>\n",
       "<table border=\"1\" class=\"dataframe\">\n",
       "  <thead>\n",
       "    <tr style=\"text-align: right;\">\n",
       "      <th></th>\n",
       "      <th>Net Sales</th>\n",
       "      <th>Predicted Net Sales</th>\n",
       "    </tr>\n",
       "  </thead>\n",
       "  <tbody>\n",
       "    <tr>\n",
       "      <th>64587</th>\n",
       "      <td>-13898.981689</td>\n",
       "      <td>-13964.523438</td>\n",
       "    </tr>\n",
       "    <tr>\n",
       "      <th>144025</th>\n",
       "      <td>46947.725160</td>\n",
       "      <td>47789.402344</td>\n",
       "    </tr>\n",
       "    <tr>\n",
       "      <th>107682</th>\n",
       "      <td>546.475549</td>\n",
       "      <td>507.883057</td>\n",
       "    </tr>\n",
       "    <tr>\n",
       "      <th>61705</th>\n",
       "      <td>92.348978</td>\n",
       "      <td>190.910172</td>\n",
       "    </tr>\n",
       "    <tr>\n",
       "      <th>213</th>\n",
       "      <td>759.914720</td>\n",
       "      <td>788.024414</td>\n",
       "    </tr>\n",
       "    <tr>\n",
       "      <th>...</th>\n",
       "      <td>...</td>\n",
       "      <td>...</td>\n",
       "    </tr>\n",
       "    <tr>\n",
       "      <th>105282</th>\n",
       "      <td>540.138888</td>\n",
       "      <td>541.752686</td>\n",
       "    </tr>\n",
       "    <tr>\n",
       "      <th>24038</th>\n",
       "      <td>288.820702</td>\n",
       "      <td>296.374756</td>\n",
       "    </tr>\n",
       "    <tr>\n",
       "      <th>84621</th>\n",
       "      <td>115.969067</td>\n",
       "      <td>113.183098</td>\n",
       "    </tr>\n",
       "    <tr>\n",
       "      <th>99635</th>\n",
       "      <td>188.501566</td>\n",
       "      <td>195.149643</td>\n",
       "    </tr>\n",
       "    <tr>\n",
       "      <th>79454</th>\n",
       "      <td>89.420099</td>\n",
       "      <td>113.183098</td>\n",
       "    </tr>\n",
       "  </tbody>\n",
       "</table>\n",
       "<p>44520 rows × 2 columns</p>\n",
       "</div>"
      ],
      "text/plain": [
       "           Net Sales  Predicted Net Sales\n",
       "64587  -13898.981689        -13964.523438\n",
       "144025  46947.725160         47789.402344\n",
       "107682    546.475549           507.883057\n",
       "61705      92.348978           190.910172\n",
       "213       759.914720           788.024414\n",
       "...              ...                  ...\n",
       "105282    540.138888           541.752686\n",
       "24038     288.820702           296.374756\n",
       "84621     115.969067           113.183098\n",
       "99635     188.501566           195.149643\n",
       "79454      89.420099           113.183098\n",
       "\n",
       "[44520 rows x 2 columns]"
      ]
     },
     "execution_count": 58,
     "metadata": {},
     "output_type": "execute_result"
    }
   ],
   "source": [
    "compare_df = pd.DataFrame({\n",
    "    'Net Sales':test_target,\n",
    "    'Predicted Net Sales':model.predict(test_X)\n",
    "})\n",
    "compare_df"
   ]
  },
  {
   "cell_type": "markdown",
   "id": "047e2898",
   "metadata": {},
   "source": [
    "## Why XGBoost was used instead of other ML Regression algorithms ? I hope you got the answer."
   ]
  }
 ],
 "metadata": {
  "kernelspec": {
   "display_name": "Python 3",
   "language": "python",
   "name": "python3"
  },
  "language_info": {
   "codemirror_mode": {
    "name": "ipython",
    "version": 3
   },
   "file_extension": ".py",
   "mimetype": "text/x-python",
   "name": "python",
   "nbconvert_exporter": "python",
   "pygments_lexer": "ipython3",
   "version": "3.8.8"
  }
 },
 "nbformat": 4,
 "nbformat_minor": 5
}
